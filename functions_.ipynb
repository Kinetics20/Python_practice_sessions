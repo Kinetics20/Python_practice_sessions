{
 "cells": [
  {
   "metadata": {},
   "cell_type": "markdown",
   "source": [
    "# Functions\n",
    "\n",
    "- named\n",
    "- anonymous\n"
   ],
   "id": "1243e90851ba03a8"
  },
  {
   "metadata": {},
   "cell_type": "markdown",
   "source": "---",
   "id": "cbbce68705f6266a"
  },
  {
   "metadata": {},
   "cell_type": "markdown",
   "source": "![This picture shows how functions work in python](./function_scheme_2024_09_12_.png \"Function_scheme\")",
   "id": "d130f3c50fddf58e"
  },
  {
   "metadata": {
    "ExecuteTime": {
     "end_time": "2024-10-22T12:51:23.842025Z",
     "start_time": "2024-10-22T12:51:23.835925Z"
    }
   },
   "cell_type": "code",
   "source": [
    "def add(a, b):\n",
    "    return a + b"
   ],
   "id": "7d626af212e1dae6",
   "outputs": [],
   "execution_count": 15
  },
  {
   "metadata": {
    "ExecuteTime": {
     "end_time": "2024-10-22T12:51:58.176931Z",
     "start_time": "2024-10-22T12:51:58.166013Z"
    }
   },
   "cell_type": "code",
   "source": "add(58788987, 6)",
   "id": "f43e5e86c2fd1859",
   "outputs": [
    {
     "data": {
      "text/plain": [
       "58788993"
      ]
     },
     "execution_count": 16,
     "metadata": {},
     "output_type": "execute_result"
    }
   ],
   "execution_count": 16
  },
  {
   "metadata": {
    "ExecuteTime": {
     "end_time": "2024-10-22T12:53:07.607859Z",
     "start_time": "2024-10-22T12:53:07.586455Z"
    }
   },
   "cell_type": "code",
   "source": "add('ala has a cat ', 'and aids')",
   "id": "585bb8d1fda35cea",
   "outputs": [
    {
     "data": {
      "text/plain": [
       "'ala has a cat and aids'"
      ]
     },
     "execution_count": 19,
     "metadata": {},
     "output_type": "execute_result"
    }
   ],
   "execution_count": 19
  },
  {
   "metadata": {
    "ExecuteTime": {
     "end_time": "2024-10-22T12:56:09.213471Z",
     "start_time": "2024-10-22T12:56:09.200720Z"
    }
   },
   "cell_type": "code",
   "source": "add('sth goes home', str(3))",
   "id": "e37a58cf300ce1a8",
   "outputs": [
    {
     "data": {
      "text/plain": [
       "'sth goes home3'"
      ]
     },
     "execution_count": 20,
     "metadata": {},
     "output_type": "execute_result"
    }
   ],
   "execution_count": 20
  },
  {
   "metadata": {},
   "cell_type": "markdown",
   "source": "##### Napisz fn my_max (function has to return max value )",
   "id": "6ffce60c19510c2a"
  },
  {
   "metadata": {
    "ExecuteTime": {
     "end_time": "2024-10-22T13:37:47.092687Z",
     "start_time": "2024-10-22T13:37:47.084188Z"
    }
   },
   "cell_type": "code",
   "source": [
    "def my_max(sth):\n",
    "    return max(sth)"
   ],
   "id": "20f83072a9d84c61",
   "outputs": [],
   "execution_count": 21
  },
  {
   "metadata": {
    "ExecuteTime": {
     "end_time": "2024-10-22T13:58:29.116405Z",
     "start_time": "2024-10-22T13:58:29.095495Z"
    }
   },
   "cell_type": "code",
   "source": "my_max([1, 2, 3])",
   "id": "477c92f3b5bc1ebe",
   "outputs": [
    {
     "data": {
      "text/plain": [
       "3"
      ]
     },
     "execution_count": 29,
     "metadata": {},
     "output_type": "execute_result"
    }
   ],
   "execution_count": 29
  },
  {
   "metadata": {
    "ExecuteTime": {
     "end_time": "2024-10-22T13:59:44.587312Z",
     "start_time": "2024-10-22T13:59:44.572229Z"
    }
   },
   "cell_type": "code",
   "source": [
    "def my_max_1(coll):\n",
    "    max_value = coll[0]\n",
    "    \n",
    "    for digit in coll:\n",
    "        if digit > max_value:\n",
    "            max_value = digit\n",
    "    return max_value\n",
    "    "
   ],
   "id": "137ac5c39d69b243",
   "outputs": [],
   "execution_count": 32
  },
  {
   "metadata": {
    "ExecuteTime": {
     "end_time": "2024-10-22T13:59:46.924817Z",
     "start_time": "2024-10-22T13:59:46.906570Z"
    }
   },
   "cell_type": "code",
   "source": "my_max_1([1, 2, 3])",
   "id": "f762036e643fbee7",
   "outputs": [
    {
     "data": {
      "text/plain": [
       "3"
      ]
     },
     "execution_count": 33,
     "metadata": {},
     "output_type": "execute_result"
    }
   ],
   "execution_count": 33
  },
  {
   "metadata": {},
   "cell_type": "markdown",
   "source": "#### Write function that works exactly like a range ",
   "id": "6cfcc8eb04cc6d88"
  },
  {
   "metadata": {
    "ExecuteTime": {
     "end_time": "2024-10-22T14:25:19.954481Z",
     "start_time": "2024-10-22T14:25:19.937249Z"
    }
   },
   "cell_type": "code",
   "source": "range(10)",
   "id": "e6c769cf6e989efe",
   "outputs": [
    {
     "data": {
      "text/plain": [
       "range(0, 10)"
      ]
     },
     "execution_count": 34,
     "metadata": {},
     "output_type": "execute_result"
    }
   ],
   "execution_count": 34
  },
  {
   "metadata": {
    "ExecuteTime": {
     "end_time": "2024-10-22T15:47:21.699509Z",
     "start_time": "2024-10-22T15:47:21.687570Z"
    }
   },
   "cell_type": "code",
   "source": [
    "def my_range(start, stop=None, step=1):\n",
    "    if stop is None:\n",
    "        stop = start\n",
    "        start = 0\n",
    "        \n",
    "    digits = []\n",
    "    counter = start\n",
    "    \n",
    "    while len(digits) < (stop - start) / step:\n",
    "        digits.append(counter)\n",
    "        counter += step\n",
    "    \n",
    "    return digits\n",
    "    # return [i for i in range(stop)]"
   ],
   "id": "cbfb473bd1f8d027",
   "outputs": [],
   "execution_count": 64
  },
  {
   "metadata": {
    "ExecuteTime": {
     "end_time": "2024-10-22T15:31:00.578535Z",
     "start_time": "2024-10-22T15:31:00.554644Z"
    }
   },
   "cell_type": "code",
   "source": "list(range(10))",
   "id": "3ff379a20737ce88",
   "outputs": [
    {
     "data": {
      "text/plain": [
       "[0, 1, 2, 3, 4, 5, 6, 7, 8, 9]"
      ]
     },
     "execution_count": 55,
     "metadata": {},
     "output_type": "execute_result"
    }
   ],
   "execution_count": 55
  },
  {
   "metadata": {
    "ExecuteTime": {
     "end_time": "2024-10-22T14:47:51.427163Z",
     "start_time": "2024-10-22T14:47:51.418761Z"
    }
   },
   "cell_type": "code",
   "source": "my_range(10)",
   "id": "cd12773961855ab6",
   "outputs": [
    {
     "data": {
      "text/plain": [
       "[0, 1, 2, 3, 4, 5, 6, 7, 8, 9]"
      ]
     },
     "execution_count": 53,
     "metadata": {},
     "output_type": "execute_result"
    }
   ],
   "execution_count": 53
  },
  {
   "metadata": {
    "ExecuteTime": {
     "end_time": "2024-10-22T14:28:23.082722Z",
     "start_time": "2024-10-22T14:28:23.064644Z"
    }
   },
   "cell_type": "code",
   "source": "list(range(3, 10))",
   "id": "5211e0866a8021a2",
   "outputs": [
    {
     "data": {
      "text/plain": [
       "[3, 4, 5, 6, 7, 8, 9]"
      ]
     },
     "execution_count": 36,
     "metadata": {},
     "output_type": "execute_result"
    }
   ],
   "execution_count": 36
  },
  {
   "metadata": {
    "ExecuteTime": {
     "end_time": "2024-10-22T15:31:17.811204Z",
     "start_time": "2024-10-22T15:31:17.801715Z"
    }
   },
   "cell_type": "code",
   "source": "my_range(3, 10)",
   "id": "92f5592b68ff976",
   "outputs": [
    {
     "data": {
      "text/plain": [
       "[3, 4, 5, 6, 7, 8, 9]"
      ]
     },
     "execution_count": 58,
     "metadata": {},
     "output_type": "execute_result"
    }
   ],
   "execution_count": 58
  },
  {
   "metadata": {
    "ExecuteTime": {
     "end_time": "2024-10-22T14:28:44.906092Z",
     "start_time": "2024-10-22T14:28:44.896625Z"
    }
   },
   "cell_type": "code",
   "source": "list(range(3, 10, 2))",
   "id": "42a1499df439c2b2",
   "outputs": [
    {
     "data": {
      "text/plain": [
       "[3, 5, 7, 9]"
      ]
     },
     "execution_count": 37,
     "metadata": {},
     "output_type": "execute_result"
    }
   ],
   "execution_count": 37
  },
  {
   "metadata": {
    "ExecuteTime": {
     "end_time": "2024-10-22T15:38:57.081633Z",
     "start_time": "2024-10-22T15:38:57.067035Z"
    }
   },
   "cell_type": "code",
   "source": "my_range(3, 10, 2)",
   "id": "40a869ae1eb95cc2",
   "outputs": [
    {
     "data": {
      "text/plain": [
       "[3, 5, 7, 9]"
      ]
     },
     "execution_count": 63,
     "metadata": {},
     "output_type": "execute_result"
    }
   ],
   "execution_count": 63
  },
  {
   "metadata": {
    "ExecuteTime": {
     "end_time": "2024-10-22T15:47:27.552521Z",
     "start_time": "2024-10-22T15:47:27.537757Z"
    }
   },
   "cell_type": "code",
   "source": "list(range(10, -1, -1))",
   "id": "aa295b9e975da40a",
   "outputs": [
    {
     "data": {
      "text/plain": [
       "[10, 9, 8, 7, 6, 5, 4, 3, 2, 1, 0]"
      ]
     },
     "execution_count": 65,
     "metadata": {},
     "output_type": "execute_result"
    }
   ],
   "execution_count": 65
  },
  {
   "metadata": {
    "ExecuteTime": {
     "end_time": "2024-10-22T14:30:20.751230Z",
     "start_time": "2024-10-22T14:30:20.742271Z"
    }
   },
   "cell_type": "code",
   "source": "list(range(1, 5, -1))",
   "id": "fd52f009e6e7f6e4",
   "outputs": [
    {
     "data": {
      "text/plain": [
       "[]"
      ]
     },
     "execution_count": 39,
     "metadata": {},
     "output_type": "execute_result"
    }
   ],
   "execution_count": 39
  },
  {
   "metadata": {
    "ExecuteTime": {
     "end_time": "2024-10-22T15:49:25.149715Z",
     "start_time": "2024-10-22T15:49:25.139838Z"
    }
   },
   "cell_type": "code",
   "source": "my_range(1, 5, -1)",
   "id": "4cd45c372f3f4978",
   "outputs": [
    {
     "data": {
      "text/plain": [
       "[]"
      ]
     },
     "execution_count": 66,
     "metadata": {},
     "output_type": "execute_result"
    }
   ],
   "execution_count": 66
  }
 ],
 "metadata": {
  "kernelspec": {
   "display_name": "Python 3",
   "language": "python",
   "name": "python3"
  },
  "language_info": {
   "codemirror_mode": {
    "name": "ipython",
    "version": 2
   },
   "file_extension": ".py",
   "mimetype": "text/x-python",
   "name": "python",
   "nbconvert_exporter": "python",
   "pygments_lexer": "ipython2",
   "version": "2.7.6"
  }
 },
 "nbformat": 4,
 "nbformat_minor": 5
}
