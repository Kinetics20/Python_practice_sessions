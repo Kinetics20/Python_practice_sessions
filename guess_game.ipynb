{
 "cells": [
  {
   "metadata": {},
   "cell_type": "markdown",
   "source": [
    "# Guess Game\n",
    "\n",
    "1. User gives 2 numbers create scope/range\n",
    "2. The computer draws the number\n",
    "3. User guesses numbers\n",
    "4. The computer says : too little, too much, you hit, displays how many attempts\n",
    "5. Would you like to play again"
   ],
   "id": "102fca416481730d"
  },
  {
   "metadata": {
    "ExecuteTime": {
     "end_time": "2024-10-22T19:56:17.318848Z",
     "start_time": "2024-10-22T19:56:11.283506Z"
    }
   },
   "cell_type": "code",
   "source": [
    "from B_A_P_D.workshop.try_exam.to_test_task import name_sorter\n",
    "\n",
    "int(input('Put the minimum value :\\n'))\n",
    "int(input('Put the maximum value :\\n'))"
   ],
   "id": "7b6c941e93ba11b9",
   "outputs": [
    {
     "data": {
      "text/plain": [
       "1000"
      ]
     },
     "execution_count": 5,
     "metadata": {},
     "output_type": "execute_result"
    }
   ],
   "execution_count": 5
  },
  {
   "metadata": {
    "ExecuteTime": {
     "end_time": "2024-10-22T20:23:30.159794Z",
     "start_time": "2024-10-22T20:23:30.156401Z"
    }
   },
   "cell_type": "code",
   "source": "import random",
   "id": "3f50ac70711fba39",
   "outputs": [],
   "execution_count": 22
  },
  {
   "metadata": {
    "ExecuteTime": {
     "end_time": "2024-10-22T20:14:14.857884Z",
     "start_time": "2024-10-22T20:14:14.852663Z"
    }
   },
   "cell_type": "code",
   "source": [
    "# descriptive names\n",
    "# single responsibility / function does only one thing /\n",
    "# simple is better then complex\n",
    "\n",
    "\n",
    "def get_user_range():\n",
    "    digit_min = int(input('Put the minimum value :\\n'))\n",
    "    digit_max = int(input('Put the maximum value :\\n'))\n",
    "    \n",
    "    return digit_min, digit_max"
   ],
   "id": "9108e82dd268ae3e",
   "outputs": [],
   "execution_count": 15
  },
  {
   "metadata": {
    "ExecuteTime": {
     "end_time": "2024-10-22T20:14:58.104996Z",
     "start_time": "2024-10-22T20:14:51.383353Z"
    }
   },
   "cell_type": "code",
   "source": [
    "result = get_user_range()\n",
    "print(result)"
   ],
   "id": "fffcbd0f9d50a2d5",
   "outputs": [
    {
     "name": "stdout",
     "output_type": "stream",
     "text": [
      "(6, 10)\n"
     ]
    }
   ],
   "execution_count": 17
  },
  {
   "metadata": {
    "ExecuteTime": {
     "end_time": "2024-10-22T20:08:24.023078Z",
     "start_time": "2024-10-22T20:08:24.015306Z"
    }
   },
   "cell_type": "code",
   "source": "type(result[0])",
   "id": "5593e3117850309a",
   "outputs": [
    {
     "data": {
      "text/plain": [
       "int"
      ]
     },
     "execution_count": 9,
     "metadata": {},
     "output_type": "execute_result"
    }
   ],
   "execution_count": 9
  },
  {
   "metadata": {
    "ExecuteTime": {
     "end_time": "2024-10-22T20:36:10.711887Z",
     "start_time": "2024-10-22T20:36:10.699087Z"
    }
   },
   "cell_type": "code",
   "source": [
    "# [item for item in iterable]\n",
    "# _ - dummy name\n",
    "\n",
    "sum(random.randint(0, 10) for _ in range(1, 101)) / 100"
   ],
   "id": "ecc152a6ba36f056",
   "outputs": [
    {
     "data": {
      "text/plain": [
       "4.95"
      ]
     },
     "execution_count": 32,
     "metadata": {},
     "output_type": "execute_result"
    }
   ],
   "execution_count": 32
  },
  {
   "metadata": {
    "ExecuteTime": {
     "end_time": "2024-10-22T20:40:10.480680Z",
     "start_time": "2024-10-22T20:40:10.476460Z"
    }
   },
   "cell_type": "code",
   "source": [
    "def draw_digit(min_d, max_d):\n",
    "    return random.randint(min_d, max_d)"
   ],
   "id": "439ab5c247f030f9",
   "outputs": [],
   "execution_count": 34
  },
  {
   "metadata": {
    "ExecuteTime": {
     "end_time": "2024-10-22T20:40:22.302933Z",
     "start_time": "2024-10-22T20:40:22.297170Z"
    }
   },
   "cell_type": "code",
   "source": "draw_digit(1, 10)",
   "id": "25bbad109ee57fe0",
   "outputs": [
    {
     "data": {
      "text/plain": [
       "7"
      ]
     },
     "execution_count": 38,
     "metadata": {},
     "output_type": "execute_result"
    }
   ],
   "execution_count": 38
  },
  {
   "metadata": {
    "ExecuteTime": {
     "end_time": "2024-10-22T20:43:48.317832Z",
     "start_time": "2024-10-22T20:43:41.855730Z"
    }
   },
   "cell_type": "code",
   "source": [
    "digit_1, digit_2 = get_user_range()\n",
    "draw_digit(digit_1, digit_2)"
   ],
   "id": "eed91854df462ea6",
   "outputs": [
    {
     "data": {
      "text/plain": [
       "4"
      ]
     },
     "execution_count": 40,
     "metadata": {},
     "output_type": "execute_result"
    }
   ],
   "execution_count": 40
  },
  {
   "metadata": {
    "ExecuteTime": {
     "end_time": "2024-10-22T20:48:37.097396Z",
     "start_time": "2024-10-22T20:48:28.182055Z"
    }
   },
   "cell_type": "code",
   "source": [
    "# this statement works but we don't use this way to code / it's not agree with \"Simple is better than complex\"\n",
    "draw_digit(*get_user_range())"
   ],
   "id": "c60e83f74ce2b5bb",
   "outputs": [
    {
     "data": {
      "text/plain": [
       "6"
      ]
     },
     "execution_count": 41,
     "metadata": {},
     "output_type": "execute_result"
    }
   ],
   "execution_count": 41
  },
  {
   "metadata": {},
   "cell_type": "code",
   "outputs": [],
   "execution_count": null,
   "source": "",
   "id": "691d5dbd07539396"
  },
  {
   "metadata": {},
   "cell_type": "code",
   "outputs": [],
   "execution_count": null,
   "source": "",
   "id": "feb5dce05da4fc67"
  },
  {
   "metadata": {},
   "cell_type": "code",
   "outputs": [],
   "execution_count": null,
   "source": "",
   "id": "7fe86065d5d7443"
  }
 ],
 "metadata": {
  "kernelspec": {
   "display_name": "Python 3",
   "language": "python",
   "name": "python3"
  },
  "language_info": {
   "codemirror_mode": {
    "name": "ipython",
    "version": 2
   },
   "file_extension": ".py",
   "mimetype": "text/x-python",
   "name": "python",
   "nbconvert_exporter": "python",
   "pygments_lexer": "ipython2",
   "version": "2.7.6"
  }
 },
 "nbformat": 4,
 "nbformat_minor": 5
}
