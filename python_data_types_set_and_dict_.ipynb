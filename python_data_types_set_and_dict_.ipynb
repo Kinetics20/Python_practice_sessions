{
 "cells": [
  {
   "metadata": {},
   "cell_type": "markdown",
   "source": [
    "# Set\n",
    "\n",
    "1. Set contains unique values\n",
    "2. Collection\n",
    "3. Unordered\n",
    "4. Heterogeneous but only hashable types / hashable -> primitives and immutable /\n",
    "5. Mutable\n",
    "\n",
    "```python\n",
    "\n",
    "x = {1, 2}\n",
    "type(x)  #set\n",
    "\n",
    "# set(iterable) #  i.e   set([1, 3, 4])  -->   {1, 2, 3}\n",
    "\n",
    "\n",
    "```\n"
   ],
   "id": "b53fa8365538c1dd"
  },
  {
   "metadata": {
    "ExecuteTime": {
     "end_time": "2024-10-23T14:56:06.264524Z",
     "start_time": "2024-10-23T14:56:06.242055Z"
    }
   },
   "cell_type": "code",
   "source": [
    "x = {1, 2, 3, 4}\n",
    "type(x)"
   ],
   "id": "4558f88fe20c8c70",
   "outputs": [
    {
     "data": {
      "text/plain": [
       "set"
      ]
     },
     "execution_count": 1,
     "metadata": {},
     "output_type": "execute_result"
    }
   ],
   "execution_count": 1
  },
  {
   "metadata": {
    "ExecuteTime": {
     "end_time": "2024-10-23T14:58:54.428308Z",
     "start_time": "2024-10-23T14:58:54.412814Z"
    }
   },
   "cell_type": "code",
   "source": "{1, 2, 3, 4, (1, 2), 1.0, True, '', 'STH'}",
   "id": "7402bf1ca395acfc",
   "outputs": [
    {
     "data": {
      "text/plain": [
       "{'', (1, 2), 1, 2, 3, 4, 'STH'}"
      ]
     },
     "execution_count": 2,
     "metadata": {},
     "output_type": "execute_result"
    }
   ],
   "execution_count": 2
  },
  {
   "metadata": {
    "ExecuteTime": {
     "end_time": "2024-10-23T15:00:56.484262Z",
     "start_time": "2024-10-23T15:00:56.467217Z"
    }
   },
   "cell_type": "code",
   "source": [
    "l = [1, 2, 3, 4]\n",
    "set(l)"
   ],
   "id": "13267dff3c709c2f",
   "outputs": [
    {
     "data": {
      "text/plain": [
       "{1, 2, 3, 4}"
      ]
     },
     "execution_count": 3,
     "metadata": {},
     "output_type": "execute_result"
    }
   ],
   "execution_count": 3
  },
  {
   "metadata": {
    "ExecuteTime": {
     "end_time": "2024-10-23T15:09:39.332720Z",
     "start_time": "2024-10-23T15:09:39.309547Z"
    }
   },
   "cell_type": "code",
   "source": [
    "t = (1, 2, 3, [1, 2, 3])\n",
    "# set(t)\n",
    "t[-1][0] = 56\n",
    "t"
   ],
   "id": "e66439e79c34255",
   "outputs": [
    {
     "data": {
      "text/plain": [
       "(1, 2, 3, [56, 2, 3])"
      ]
     },
     "execution_count": 5,
     "metadata": {},
     "output_type": "execute_result"
    }
   ],
   "execution_count": 5
  },
  {
   "metadata": {
    "ExecuteTime": {
     "end_time": "2024-10-23T15:12:52.573547Z",
     "start_time": "2024-10-23T15:12:52.548272Z"
    }
   },
   "cell_type": "code",
   "source": "dir(set)",
   "id": "2a93088eae1cc8",
   "outputs": [
    {
     "data": {
      "text/plain": [
       "['__and__',\n",
       " '__class__',\n",
       " '__class_getitem__',\n",
       " '__contains__',\n",
       " '__delattr__',\n",
       " '__dir__',\n",
       " '__doc__',\n",
       " '__eq__',\n",
       " '__format__',\n",
       " '__ge__',\n",
       " '__getattribute__',\n",
       " '__getstate__',\n",
       " '__gt__',\n",
       " '__hash__',\n",
       " '__iand__',\n",
       " '__init__',\n",
       " '__init_subclass__',\n",
       " '__ior__',\n",
       " '__isub__',\n",
       " '__iter__',\n",
       " '__ixor__',\n",
       " '__le__',\n",
       " '__len__',\n",
       " '__lt__',\n",
       " '__ne__',\n",
       " '__new__',\n",
       " '__or__',\n",
       " '__rand__',\n",
       " '__reduce__',\n",
       " '__reduce_ex__',\n",
       " '__repr__',\n",
       " '__ror__',\n",
       " '__rsub__',\n",
       " '__rxor__',\n",
       " '__setattr__',\n",
       " '__sizeof__',\n",
       " '__str__',\n",
       " '__sub__',\n",
       " '__subclasshook__',\n",
       " '__xor__',\n",
       " 'add',\n",
       " 'clear',\n",
       " 'copy',\n",
       " 'difference',\n",
       " 'difference_update',\n",
       " 'discard',\n",
       " 'intersection',\n",
       " 'intersection_update',\n",
       " 'isdisjoint',\n",
       " 'issubset',\n",
       " 'issuperset',\n",
       " 'pop',\n",
       " 'remove',\n",
       " 'symmetric_difference',\n",
       " 'symmetric_difference_update',\n",
       " 'union',\n",
       " 'update']"
      ]
     },
     "execution_count": 6,
     "metadata": {},
     "output_type": "execute_result"
    }
   ],
   "execution_count": 6
  },
  {
   "metadata": {
    "ExecuteTime": {
     "end_time": "2024-10-23T15:15:05.631069Z",
     "start_time": "2024-10-23T15:15:05.621059Z"
    }
   },
   "cell_type": "code",
   "source": "{1, 2, 3, 4}.union({3, 4, 5})",
   "id": "2e48611f31f05ffa",
   "outputs": [
    {
     "data": {
      "text/plain": [
       "{1, 2, 3, 4, 5}"
      ]
     },
     "execution_count": 7,
     "metadata": {},
     "output_type": "execute_result"
    }
   ],
   "execution_count": 7
  },
  {
   "metadata": {
    "ExecuteTime": {
     "end_time": "2024-10-23T15:21:50.344296Z",
     "start_time": "2024-10-23T15:21:50.332210Z"
    }
   },
   "cell_type": "code",
   "source": "{1, 2, 3, }.intersection({3, 4, 5})",
   "id": "b18459365ea5af9e",
   "outputs": [
    {
     "data": {
      "text/plain": [
       "{3}"
      ]
     },
     "execution_count": 9,
     "metadata": {},
     "output_type": "execute_result"
    }
   ],
   "execution_count": 9
  },
  {
   "metadata": {
    "ExecuteTime": {
     "end_time": "2024-10-23T15:23:28.157590Z",
     "start_time": "2024-10-23T15:23:28.135855Z"
    }
   },
   "cell_type": "code",
   "source": "{1, 2, 3}.symmetric_difference({3, 4, 5})",
   "id": "183b79df3b40560e",
   "outputs": [
    {
     "data": {
      "text/plain": [
       "{1, 2, 4, 5}"
      ]
     },
     "execution_count": 12,
     "metadata": {},
     "output_type": "execute_result"
    }
   ],
   "execution_count": 12
  },
  {
   "metadata": {
    "ExecuteTime": {
     "end_time": "2024-10-23T15:47:20.097770Z",
     "start_time": "2024-10-23T15:47:20.083694Z"
    }
   },
   "cell_type": "code",
   "source": [
    "x = {1, 2, 3}\n",
    "y = {3, 4, 5}\n",
    "x.add(5)\n",
    "x"
   ],
   "id": "8a167b5904319a49",
   "outputs": [
    {
     "data": {
      "text/plain": [
       "{1, 2, 3, 5}"
      ]
     },
     "execution_count": 30,
     "metadata": {},
     "output_type": "execute_result"
    }
   ],
   "execution_count": 30
  },
  {
   "metadata": {
    "ExecuteTime": {
     "end_time": "2024-10-23T15:34:58.830530Z",
     "start_time": "2024-10-23T15:34:58.816296Z"
    }
   },
   "cell_type": "code",
   "source": [
    "x.clear()\n",
    "x"
   ],
   "id": "af5d1204ae52d4ac",
   "outputs": [
    {
     "data": {
      "text/plain": [
       "set()"
      ]
     },
     "execution_count": 20,
     "metadata": {},
     "output_type": "execute_result"
    }
   ],
   "execution_count": 20
  },
  {
   "metadata": {
    "ExecuteTime": {
     "end_time": "2024-10-23T15:36:40.833142Z",
     "start_time": "2024-10-23T15:36:40.816170Z"
    }
   },
   "cell_type": "code",
   "source": "x.difference(y)",
   "id": "74363bfb2c442a75",
   "outputs": [
    {
     "data": {
      "text/plain": [
       "{1, 2}"
      ]
     },
     "execution_count": 24,
     "metadata": {},
     "output_type": "execute_result"
    }
   ],
   "execution_count": 24
  },
  {
   "metadata": {
    "ExecuteTime": {
     "end_time": "2024-10-23T15:38:53.092923Z",
     "start_time": "2024-10-23T15:38:53.084237Z"
    }
   },
   "cell_type": "code",
   "source": [
    "# operation in-place / modify the original object /\n",
    "x.difference_update(y)"
   ],
   "id": "97e3bc0368c85894",
   "outputs": [],
   "execution_count": 25
  },
  {
   "metadata": {
    "ExecuteTime": {
     "end_time": "2024-10-23T15:39:21.759477Z",
     "start_time": "2024-10-23T15:39:21.750322Z"
    }
   },
   "cell_type": "code",
   "source": "x",
   "id": "f28d8a0adb0b028d",
   "outputs": [
    {
     "data": {
      "text/plain": [
       "{1, 2}"
      ]
     },
     "execution_count": 26,
     "metadata": {},
     "output_type": "execute_result"
    }
   ],
   "execution_count": 26
  },
  {
   "metadata": {
    "ExecuteTime": {
     "end_time": "2024-10-23T15:43:14.349817Z",
     "start_time": "2024-10-23T15:43:14.336314Z"
    }
   },
   "cell_type": "code",
   "source": [
    "x.discard(1)\n",
    "x"
   ],
   "id": "306556610dccae3a",
   "outputs": [
    {
     "data": {
      "text/plain": [
       "{2}"
      ]
     },
     "execution_count": 29,
     "metadata": {},
     "output_type": "execute_result"
    }
   ],
   "execution_count": 29
  },
  {
   "metadata": {
    "ExecuteTime": {
     "end_time": "2024-10-23T15:47:42.528921Z",
     "start_time": "2024-10-23T15:47:42.519475Z"
    }
   },
   "cell_type": "code",
   "source": "x.isdisjoint(y)",
   "id": "133e74f3611dd5cb",
   "outputs": [
    {
     "data": {
      "text/plain": [
       "False"
      ]
     },
     "execution_count": 31,
     "metadata": {},
     "output_type": "execute_result"
    }
   ],
   "execution_count": 31
  },
  {
   "metadata": {
    "ExecuteTime": {
     "end_time": "2024-10-23T15:48:03.699999Z",
     "start_time": "2024-10-23T15:48:03.690629Z"
    }
   },
   "cell_type": "code",
   "source": "x.issubset(y)",
   "id": "55d38286af5d0fc7",
   "outputs": [
    {
     "data": {
      "text/plain": [
       "False"
      ]
     },
     "execution_count": 32,
     "metadata": {},
     "output_type": "execute_result"
    }
   ],
   "execution_count": 32
  },
  {
   "metadata": {
    "ExecuteTime": {
     "end_time": "2024-10-23T15:48:21.103567Z",
     "start_time": "2024-10-23T15:48:21.093058Z"
    }
   },
   "cell_type": "code",
   "source": "x.issuperset(y)",
   "id": "ef9270f7bb6828a7",
   "outputs": [
    {
     "data": {
      "text/plain": [
       "False"
      ]
     },
     "execution_count": 33,
     "metadata": {},
     "output_type": "execute_result"
    }
   ],
   "execution_count": 33
  },
  {
   "metadata": {
    "ExecuteTime": {
     "end_time": "2024-10-23T15:49:56.697967Z",
     "start_time": "2024-10-23T15:49:56.681758Z"
    }
   },
   "cell_type": "code",
   "source": "{1, 2, 3} | {4, 5, 6}",
   "id": "ca75b4a479e6d279",
   "outputs": [
    {
     "data": {
      "text/plain": [
       "{1, 2, 3, 4, 5, 6}"
      ]
     },
     "execution_count": 34,
     "metadata": {},
     "output_type": "execute_result"
    }
   ],
   "execution_count": 34
  },
  {
   "metadata": {
    "ExecuteTime": {
     "end_time": "2024-10-23T15:56:14.520776Z",
     "start_time": "2024-10-23T15:56:14.510863Z"
    }
   },
   "cell_type": "code",
   "source": "{1, 2, 3} & {4, 5, 6}",
   "id": "7bcb7bad90561369",
   "outputs": [
    {
     "data": {
      "text/plain": [
       "set()"
      ]
     },
     "execution_count": 35,
     "metadata": {},
     "output_type": "execute_result"
    }
   ],
   "execution_count": 35
  },
  {
   "metadata": {
    "ExecuteTime": {
     "end_time": "2024-10-23T15:56:30.606370Z",
     "start_time": "2024-10-23T15:56:30.596222Z"
    }
   },
   "cell_type": "code",
   "source": "{1, 2, 3} - {4, 5, 6}",
   "id": "e05fe3a5648f1864",
   "outputs": [
    {
     "data": {
      "text/plain": [
       "{1, 2, 3}"
      ]
     },
     "execution_count": 36,
     "metadata": {},
     "output_type": "execute_result"
    }
   ],
   "execution_count": 36
  },
  {
   "metadata": {
    "ExecuteTime": {
     "end_time": "2024-10-23T15:57:35.867449Z",
     "start_time": "2024-10-23T15:57:35.853996Z"
    }
   },
   "cell_type": "code",
   "source": "{1, 2, 3} ^ {4, 5, 6}",
   "id": "7c42a599c09f63f",
   "outputs": [
    {
     "data": {
      "text/plain": [
       "{1, 2, 3, 4, 5, 6}"
      ]
     },
     "execution_count": 39,
     "metadata": {},
     "output_type": "execute_result"
    }
   ],
   "execution_count": 39
  },
  {
   "metadata": {},
   "cell_type": "code",
   "outputs": [],
   "execution_count": null,
   "source": "",
   "id": "d894eed29b353c17"
  }
 ],
 "metadata": {
  "kernelspec": {
   "display_name": "Python 3",
   "language": "python",
   "name": "python3"
  },
  "language_info": {
   "codemirror_mode": {
    "name": "ipython",
    "version": 2
   },
   "file_extension": ".py",
   "mimetype": "text/x-python",
   "name": "python",
   "nbconvert_exporter": "python",
   "pygments_lexer": "ipython2",
   "version": "2.7.6"
  }
 },
 "nbformat": 4,
 "nbformat_minor": 5
}
