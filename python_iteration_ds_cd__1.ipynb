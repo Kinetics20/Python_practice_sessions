{
 "cells": [
  {
   "cell_type": "code",
   "id": "initial_id",
   "metadata": {
    "collapsed": true,
    "ExecuteTime": {
     "end_time": "2024-11-11T18:24:26.929813Z",
     "start_time": "2024-11-11T18:24:26.921056Z"
    }
   },
   "source": [
    "data = [\n",
    "    {\n",
    "        \"name\": \"pawel\",\n",
    "        \"city\": \"krakow\",\n",
    "        \"age\": 39,\n",
    "        \"hobbies\": [\"js\", \"python\", \"drugs\"]\n",
    "    },\n",
    "    {\n",
    "        \"name\": \"joanna\",\n",
    "        \"city\": \"krakow\",\n",
    "        \"age\": 32,\n",
    "        \"hobbies\": [\"movies\", \"books\", \"food\"]\n",
    "    },\n",
    "    {\n",
    "        \"name\": \"igor\",\n",
    "        \"city\": \"wroclaw\",\n",
    "        \"age\": 31,\n",
    "        \"hobbies\": [\"anime\", \"games\", \"movies\"]\n",
    "    },\n",
    "    {\n",
    "        \"name\": \"dawid\",\n",
    "        \"city\": \"wroclaw\",\n",
    "        \"age\": 43,\n",
    "        \"hobbies\": [\"film\", \"music\", \"bike\"]\n",
    "    },\n",
    "    {\n",
    "        \"name\": \"piotr\",\n",
    "        \"city\": \"warszawa\",\n",
    "        \"age\": 35,\n",
    "        \"hobbies\": ['wspinaczka', 'komputery', 'anime']\n",
    "    },\n",
    "    {\n",
    "        \"name\": \"tomek\",\n",
    "        \"city\": \"warszawa\",\n",
    "        \"age\": 38,\n",
    "        \"hobbies\": [\"shooting\", \"sailing\", \"martial arts\"]\n",
    "    },\n",
    "    {\n",
    "        \"name\": \"rafal\",\n",
    "        \"city\": \"warszawa\",\n",
    "        \"age\": 28,\n",
    "        \"hobbies\": [\"cars\", \"IT\"]\n",
    "    },\n",
    "    {\n",
    "        \"name\": \"mateusz\",\n",
    "        \"city\": \"wroclaw\",\n",
    "        \"age\": 30,\n",
    "        \"hobbies\": [\"bjj\", \"python\", \"java\"]\n",
    "    },\n",
    "    {\n",
    "        \"name\": \"adrian\",\n",
    "        \"city\": \"dabrowa gornicza\",\n",
    "        \"age\": 33,\n",
    "        \"hobbies\": [\"reading\", \"video games\", \"chemistry\", \"physics\", \"boardgames\", \"shooting\"]\n",
    "    },\n",
    "    {\n",
    "        \"name\": \"cezary\",\n",
    "        \"city\": \"kielce\",\n",
    "        \"age\": 33,\n",
    "        \"hobbies\": [\"programming\", \"sport shooting\", \"paper models\", \"and more\"],\n",
    "    },\n",
    "    {\n",
    "        \"name\": \"szymon\",\n",
    "        \"city\": \"wroclaw\",\n",
    "        \"age\": 30,\n",
    "        \"hobbies\": [\"crypto\", \"podcasts\", \"games\"]\n",
    "    },\n",
    "    {\n",
    "        'name': 'piotr',\n",
    "        'city': 'warszawa',\n",
    "        'age': 50,\n",
    "        'hobbies': ['python', 'snorkeling', 'traveling']\n",
    "    },\n",
    "    {\n",
    "        \"name\": \"igor\",\n",
    "        \"city\": \"warszawa\",\n",
    "        \"age\": 34,\n",
    "        \"hobbies\": [\"golf\", \"music\", \"art\"]\n",
    "    },\n",
    "    {\n",
    "        \"name\": \"marcin\",\n",
    "        \"city\": \"krakow\",\n",
    "        \"age\": 40,\n",
    "        \"hobbies\": [\"python\", \"ds\", \"sleep\"]\n",
    "    },\n",
    "    {\n",
    "        \"name\": \"kasia\",\n",
    "        \"city\": \"krakow\",\n",
    "        \"age\": 35,\n",
    "        \"hobbies\": [\"music\"]\n",
    "    },\n",
    "    {\n",
    "        \"name\": \"mateusz\",\n",
    "        \"city\": \"dabrowa gornicza\",\n",
    "        \"age\": 31,\n",
    "        \"hobbies\": [\"filmy\"]\n",
    "    }\n",
    "]"
   ],
   "outputs": [],
   "execution_count": 1
  },
  {
   "metadata": {
    "ExecuteTime": {
     "end_time": "2024-11-11T18:44:45.988298Z",
     "start_time": "2024-11-11T18:44:45.983703Z"
    }
   },
   "cell_type": "code",
   "source": [
    "def avg_age_(users):\n",
    "    # return sorted(list(map(lambda user: user['age'], users)))\n",
    "    # return {user['name'] : user['age'] for user in users}\n",
    "    users_dict = {user['name'] : user['age'] for user in users}\n",
    "    # return dict(sorted(users_dict.items(), key=lambda item: item[0], reverse=False))\n",
    "    return dict(sorted(users_dict.items(), key=lambda item: item[1], reverse=False))"
   ],
   "id": "756928e0b8a43f8d",
   "outputs": [],
   "execution_count": 19
  },
  {
   "metadata": {
    "ExecuteTime": {
     "end_time": "2024-11-11T18:44:49.370182Z",
     "start_time": "2024-11-11T18:44:49.364049Z"
    }
   },
   "cell_type": "code",
   "source": "avg_age_(data)",
   "id": "c8c73e8a7c25be0c",
   "outputs": [
    {
     "data": {
      "text/plain": [
       "{'rafal': 28,\n",
       " 'szymon': 30,\n",
       " 'mateusz': 31,\n",
       " 'joanna': 32,\n",
       " 'adrian': 33,\n",
       " 'cezary': 33,\n",
       " 'igor': 34,\n",
       " 'kasia': 35,\n",
       " 'tomek': 38,\n",
       " 'pawel': 39,\n",
       " 'marcin': 40,\n",
       " 'dawid': 43,\n",
       " 'piotr': 50}"
      ]
     },
     "execution_count": 20,
     "metadata": {},
     "output_type": "execute_result"
    }
   ],
   "execution_count": 20
  },
  {
   "metadata": {
    "ExecuteTime": {
     "end_time": "2024-11-11T19:38:34.872231Z",
     "start_time": "2024-11-11T19:38:34.865900Z"
    }
   },
   "cell_type": "code",
   "source": [
    "x = [1, 2, 3, 4, 5, 6, 7, 8, 9, 10]\n",
    "\n",
    "# mapping - item * 2\n",
    "# filtering - if item & 1\n",
    "# data aggregation - achieve only one value i.e : sum([ item * 2 for item in x if item & 1])\n",
    "# the score of comprehension list is iterable it means list\n",
    "\n",
    "\n",
    "[ item * 2 for item in x if item & 1]"
   ],
   "id": "55ae9233395f77",
   "outputs": [
    {
     "data": {
      "text/plain": [
       "[2, 6, 10, 14, 18]"
      ]
     },
     "execution_count": 24,
     "metadata": {},
     "output_type": "execute_result"
    }
   ],
   "execution_count": 24
  },
  {
   "metadata": {
    "ExecuteTime": {
     "end_time": "2024-11-11T19:34:32.456266Z",
     "start_time": "2024-11-11T19:34:32.449115Z"
    }
   },
   "cell_type": "code",
   "source": [
    "z = lambda item: item * 2, x\n",
    "z"
   ],
   "id": "6418ebce5cd4a171",
   "outputs": [
    {
     "data": {
      "text/plain": [
       "(<function __main__.<lambda>(item)>, [1, 2, 3, 4, 5, 6, 7, 8, 9, 10])"
      ]
     },
     "execution_count": 23,
     "metadata": {},
     "output_type": "execute_result"
    }
   ],
   "execution_count": 23
  },
  {
   "metadata": {},
   "cell_type": "code",
   "outputs": [],
   "execution_count": null,
   "source": [
    "# generator expression , lazy evaluated , \n",
    "# which means that items are generated on the fly, only when needed, instead of creating the entire list at once\n",
    "\n",
    "# the score of generator expression is iterator \n",
    "\n",
    "sum(item * 2 for item in x if item & 1)"
   ],
   "id": "de747878b16f6b"
  },
  {
   "metadata": {},
   "cell_type": "code",
   "outputs": [],
   "execution_count": null,
   "source": "",
   "id": "b6d18fda4dc9732a"
  },
  {
   "metadata": {},
   "cell_type": "code",
   "outputs": [],
   "execution_count": null,
   "source": "",
   "id": "2ced16cf316d1c81"
  },
  {
   "metadata": {},
   "cell_type": "code",
   "outputs": [],
   "execution_count": null,
   "source": "",
   "id": "bf3afdb3bd26b124"
  },
  {
   "metadata": {},
   "cell_type": "code",
   "outputs": [],
   "execution_count": null,
   "source": "",
   "id": "790948d7ae89aff5"
  },
  {
   "metadata": {},
   "cell_type": "code",
   "outputs": [],
   "execution_count": null,
   "source": "",
   "id": "5c97a16a5daf59f2"
  },
  {
   "metadata": {},
   "cell_type": "code",
   "outputs": [],
   "execution_count": null,
   "source": "",
   "id": "64cace1acff55ddd"
  },
  {
   "metadata": {},
   "cell_type": "code",
   "outputs": [],
   "execution_count": null,
   "source": "",
   "id": "f8d255d235ca38c1"
  },
  {
   "metadata": {},
   "cell_type": "code",
   "outputs": [],
   "execution_count": null,
   "source": "",
   "id": "ebd75211014aacf0"
  },
  {
   "metadata": {},
   "cell_type": "code",
   "outputs": [],
   "execution_count": null,
   "source": "",
   "id": "fe7f8022143ae25c"
  },
  {
   "metadata": {},
   "cell_type": "code",
   "outputs": [],
   "execution_count": null,
   "source": "",
   "id": "c3f275b33f3d1b89"
  },
  {
   "metadata": {},
   "cell_type": "code",
   "outputs": [],
   "execution_count": null,
   "source": "",
   "id": "fb59e3319b649c98"
  },
  {
   "metadata": {},
   "cell_type": "code",
   "outputs": [],
   "execution_count": null,
   "source": "",
   "id": "5a34dbdc59ce8842"
  },
  {
   "metadata": {},
   "cell_type": "code",
   "outputs": [],
   "execution_count": null,
   "source": "",
   "id": "c687c466f055577b"
  },
  {
   "metadata": {},
   "cell_type": "code",
   "outputs": [],
   "execution_count": null,
   "source": "",
   "id": "e284a396b4f23e09"
  },
  {
   "metadata": {},
   "cell_type": "code",
   "outputs": [],
   "execution_count": null,
   "source": "",
   "id": "c14210de1005b736"
  },
  {
   "metadata": {},
   "cell_type": "code",
   "outputs": [],
   "execution_count": null,
   "source": "",
   "id": "13ff64aa85e464ec"
  },
  {
   "metadata": {},
   "cell_type": "code",
   "outputs": [],
   "execution_count": null,
   "source": "",
   "id": "3a3e69c1a1922818"
  },
  {
   "metadata": {},
   "cell_type": "code",
   "outputs": [],
   "execution_count": null,
   "source": "",
   "id": "2616a52944c36941"
  },
  {
   "metadata": {},
   "cell_type": "code",
   "outputs": [],
   "execution_count": null,
   "source": "",
   "id": "aaf6f10dfa4d6a90"
  },
  {
   "metadata": {},
   "cell_type": "code",
   "outputs": [],
   "execution_count": null,
   "source": "",
   "id": "37b1dc58a68cdbb"
  },
  {
   "metadata": {},
   "cell_type": "code",
   "outputs": [],
   "execution_count": null,
   "source": "",
   "id": "13678f31bbb38b71"
  },
  {
   "metadata": {},
   "cell_type": "code",
   "outputs": [],
   "execution_count": null,
   "source": "",
   "id": "795cfd147b8a53b3"
  },
  {
   "metadata": {},
   "cell_type": "code",
   "outputs": [],
   "execution_count": null,
   "source": "",
   "id": "54acdadb5fdf1e92"
  },
  {
   "metadata": {},
   "cell_type": "code",
   "outputs": [],
   "execution_count": null,
   "source": "",
   "id": "3f25da914cb3069d"
  }
 ],
 "metadata": {
  "kernelspec": {
   "display_name": "Python 3",
   "language": "python",
   "name": "python3"
  },
  "language_info": {
   "codemirror_mode": {
    "name": "ipython",
    "version": 2
   },
   "file_extension": ".py",
   "mimetype": "text/x-python",
   "name": "python",
   "nbconvert_exporter": "python",
   "pygments_lexer": "ipython2",
   "version": "2.7.6"
  }
 },
 "nbformat": 4,
 "nbformat_minor": 5
}
