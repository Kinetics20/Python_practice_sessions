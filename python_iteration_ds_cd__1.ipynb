{
 "cells": [
  {
   "cell_type": "code",
   "id": "initial_id",
   "metadata": {
    "collapsed": true,
    "ExecuteTime": {
     "end_time": "2024-11-12T12:54:38.217936Z",
     "start_time": "2024-11-12T12:54:38.202022Z"
    }
   },
   "source": [
    "data = [\n",
    "    {\n",
    "        \"name\": \"pawel\",\n",
    "        \"city\": \"krakow\",\n",
    "        \"age\": 39,\n",
    "        \"hobbies\": [\"js\", \"python\", \"drugs\"]\n",
    "    },\n",
    "    {\n",
    "        \"name\": \"joanna\",\n",
    "        \"city\": \"krakow\",\n",
    "        \"age\": 32,\n",
    "        \"hobbies\": [\"movies\", \"books\", \"food\"]\n",
    "    },\n",
    "    {\n",
    "        \"name\": \"igor\",\n",
    "        \"city\": \"wroclaw\",\n",
    "        \"age\": 31,\n",
    "        \"hobbies\": [\"anime\", \"games\", \"movies\"]\n",
    "    },\n",
    "    {\n",
    "        \"name\": \"dawid\",\n",
    "        \"city\": \"wroclaw\",\n",
    "        \"age\": 43,\n",
    "        \"hobbies\": [\"film\", \"music\", \"bike\"]\n",
    "    },\n",
    "    {\n",
    "        \"name\": \"piotr\",\n",
    "        \"city\": \"warszawa\",\n",
    "        \"age\": 35,\n",
    "        \"hobbies\": ['wspinaczka', 'komputery', 'anime']\n",
    "    },\n",
    "    {\n",
    "        \"name\": \"tomek\",\n",
    "        \"city\": \"warszawa\",\n",
    "        \"age\": 38,\n",
    "        \"hobbies\": [\"shooting\", \"sailing\", \"martial arts\"]\n",
    "    },\n",
    "    {\n",
    "        \"name\": \"rafal\",\n",
    "        \"city\": \"warszawa\",\n",
    "        \"age\": 28,\n",
    "        \"hobbies\": [\"cars\", \"IT\"]\n",
    "    },\n",
    "    {\n",
    "        \"name\": \"mateusz\",\n",
    "        \"city\": \"wroclaw\",\n",
    "        \"age\": 30,\n",
    "        \"hobbies\": [\"bjj\", \"python\", \"java\"]\n",
    "    },\n",
    "    {\n",
    "        \"name\": \"adrian\",\n",
    "        \"city\": \"dabrowa gornicza\",\n",
    "        \"age\": 33,\n",
    "        \"hobbies\": [\"reading\", \"video games\", \"chemistry\", \"physics\", \"boardgames\", \"shooting\"]\n",
    "    },\n",
    "    {\n",
    "        \"name\": \"cezary\",\n",
    "        \"city\": \"kielce\",\n",
    "        \"age\": 33,\n",
    "        \"hobbies\": [\"programming\", \"sport shooting\", \"paper models\", \"and more\"],\n",
    "    },\n",
    "    {\n",
    "        \"name\": \"szymon\",\n",
    "        \"city\": \"wroclaw\",\n",
    "        \"age\": 30,\n",
    "        \"hobbies\": [\"crypto\", \"podcasts\", \"games\"]\n",
    "    },\n",
    "    {\n",
    "        'name': 'piotr',\n",
    "        'city': 'warszawa',\n",
    "        'age': 50,\n",
    "        'hobbies': ['python', 'snorkeling', 'traveling']\n",
    "    },\n",
    "    {\n",
    "        \"name\": \"igor\",\n",
    "        \"city\": \"warszawa\",\n",
    "        \"age\": 34,\n",
    "        \"hobbies\": [\"golf\", \"music\", \"art\"]\n",
    "    },\n",
    "    {\n",
    "        \"name\": \"marcin\",\n",
    "        \"city\": \"krakow\",\n",
    "        \"age\": 40,\n",
    "        \"hobbies\": [\"python\", \"ds\", \"sleep\"]\n",
    "    },\n",
    "    {\n",
    "        \"name\": \"kasia\",\n",
    "        \"city\": \"krakow\",\n",
    "        \"age\": 35,\n",
    "        \"hobbies\": [\"music\"]\n",
    "    },\n",
    "    {\n",
    "        \"name\": \"mateusz\",\n",
    "        \"city\": \"dabrowa gornicza\",\n",
    "        \"age\": 31,\n",
    "        \"hobbies\": [\"filmy\"]\n",
    "    }\n",
    "]"
   ],
   "outputs": [],
   "execution_count": 1
  },
  {
   "metadata": {
    "ExecuteTime": {
     "end_time": "2024-11-11T18:44:45.988298Z",
     "start_time": "2024-11-11T18:44:45.983703Z"
    }
   },
   "cell_type": "code",
   "source": [
    "def avg_age_(users):\n",
    "    # return sorted(list(map(lambda user: user['age'], users)))\n",
    "    # return {user['name'] : user['age'] for user in users}\n",
    "    users_dict = {user['name'] : user['age'] for user in users}\n",
    "    # return dict(sorted(users_dict.items(), key=lambda item: item[0], reverse=False))\n",
    "    return dict(sorted(users_dict.items(), key=lambda item: item[1], reverse=False))"
   ],
   "id": "756928e0b8a43f8d",
   "outputs": [],
   "execution_count": 19
  },
  {
   "metadata": {
    "ExecuteTime": {
     "end_time": "2024-11-11T18:44:49.370182Z",
     "start_time": "2024-11-11T18:44:49.364049Z"
    }
   },
   "cell_type": "code",
   "source": "avg_age_(data)",
   "id": "c8c73e8a7c25be0c",
   "outputs": [
    {
     "data": {
      "text/plain": [
       "{'rafal': 28,\n",
       " 'szymon': 30,\n",
       " 'mateusz': 31,\n",
       " 'joanna': 32,\n",
       " 'adrian': 33,\n",
       " 'cezary': 33,\n",
       " 'igor': 34,\n",
       " 'kasia': 35,\n",
       " 'tomek': 38,\n",
       " 'pawel': 39,\n",
       " 'marcin': 40,\n",
       " 'dawid': 43,\n",
       " 'piotr': 50}"
      ]
     },
     "execution_count": 20,
     "metadata": {},
     "output_type": "execute_result"
    }
   ],
   "execution_count": 20
  },
  {
   "metadata": {
    "ExecuteTime": {
     "end_time": "2024-11-11T19:38:34.872231Z",
     "start_time": "2024-11-11T19:38:34.865900Z"
    }
   },
   "cell_type": "code",
   "source": [
    "x = [1, 2, 3, 4, 5, 6, 7, 8, 9, 10]\n",
    "\n",
    "# mapping - item * 2\n",
    "# filtering - if item & 1\n",
    "# TODO data aggregation - achieve only one value i.e : sum([ item * 2 for item in x if item & 1])\n",
    "# the score of comprehension list is iterable it means list\n",
    "\n",
    "\n",
    "[ item * 2 for item in x if item & 1]"
   ],
   "id": "55ae9233395f77",
   "outputs": [
    {
     "data": {
      "text/plain": [
       "[2, 6, 10, 14, 18]"
      ]
     },
     "execution_count": 24,
     "metadata": {},
     "output_type": "execute_result"
    }
   ],
   "execution_count": 24
  },
  {
   "metadata": {
    "ExecuteTime": {
     "end_time": "2024-11-11T19:34:32.456266Z",
     "start_time": "2024-11-11T19:34:32.449115Z"
    }
   },
   "cell_type": "code",
   "source": [
    "z = lambda item: item * 2, x\n",
    "z"
   ],
   "id": "6418ebce5cd4a171",
   "outputs": [
    {
     "data": {
      "text/plain": [
       "(<function __main__.<lambda>(item)>, [1, 2, 3, 4, 5, 6, 7, 8, 9, 10])"
      ]
     },
     "execution_count": 23,
     "metadata": {},
     "output_type": "execute_result"
    }
   ],
   "execution_count": 23
  },
  {
   "metadata": {},
   "cell_type": "code",
   "outputs": [],
   "execution_count": null,
   "source": [
    "# generator expression , lazy evaluated , \n",
    "# which means that items are generated on the fly, only when needed, instead of creating the entire list at once\n",
    "\n",
    "# the score of generator expression is iterator \n",
    "\n",
    "sum(item * 2 for item in x if item & 1)"
   ],
   "id": "de747878b16f6b"
  },
  {
   "metadata": {
    "ExecuteTime": {
     "end_time": "2024-11-11T20:47:40.442445Z",
     "start_time": "2024-11-11T20:47:40.434551Z"
    }
   },
   "cell_type": "code",
   "source": [
    "# mapping\n",
    "# TODO returns the object that represents it without enumeration / lazy evaluated\n",
    "# TODO  Functional paradigm\n",
    "# pure function - for the same input functions return  the same output\n",
    "# no side effects\n",
    "# unary\n",
    "# referential transparency\n",
    "\n",
    "digits = [1, 2, 3, 4, 5, 6, 7, 8, 9, 10]\n",
    "\n",
    "# TODO map(callable, iterable)\n",
    "# callable - function declaration\n",
    "\n",
    "# TODO I version map with lambda function\n",
    "\n",
    "list(map(lambda item: item * item, digits))\n",
    "\n",
    "# TODO II version map with named function\n",
    "\n",
    "def exponentiation(item):\n",
    "    return item * item\n",
    "\n",
    "list(map(exponentiation, digits))"
   ],
   "id": "b6d18fda4dc9732a",
   "outputs": [
    {
     "data": {
      "text/plain": [
       "[1, 4, 9, 16, 25, 36, 49, 64, 81, 100]"
      ]
     },
     "execution_count": 31,
     "metadata": {},
     "output_type": "execute_result"
    }
   ],
   "execution_count": 31
  },
  {
   "metadata": {
    "ExecuteTime": {
     "end_time": "2024-11-11T20:21:30.778067Z",
     "start_time": "2024-11-11T20:21:30.773952Z"
    }
   },
   "cell_type": "code",
   "source": [
    "def avg_age_02(persons):\n",
    "    return sum(map(lambda person: person['age'], persons)) / len(persons)"
   ],
   "id": "2ced16cf316d1c81",
   "outputs": [],
   "execution_count": 29
  },
  {
   "metadata": {
    "ExecuteTime": {
     "end_time": "2024-11-11T20:21:38.750154Z",
     "start_time": "2024-11-11T20:21:38.744429Z"
    }
   },
   "cell_type": "code",
   "source": "avg_age_02(data)",
   "id": "bf3afdb3bd26b124",
   "outputs": [
    {
     "data": {
      "text/plain": [
       "35.125"
      ]
     },
     "execution_count": 30,
     "metadata": {},
     "output_type": "execute_result"
    }
   ],
   "execution_count": 30
  },
  {
   "metadata": {
    "ExecuteTime": {
     "end_time": "2024-11-11T20:59:27.369738Z",
     "start_time": "2024-11-11T20:59:27.363046Z"
    }
   },
   "cell_type": "code",
   "source": "%lsmagic",
   "id": "790948d7ae89aff5",
   "outputs": [
    {
     "data": {
      "text/plain": [
       "Available line magics:\n",
       "%alias  %alias_magic  %autoawait  %autocall  %automagic  %autosave  %bookmark  %cat  %cd  %clear  %code_wrap  %colors  %conda  %config  %connect_info  %cp  %debug  %dhist  %dirs  %doctest_mode  %ed  %edit  %env  %gui  %hist  %history  %killbgscripts  %ldir  %less  %lf  %lk  %ll  %load  %load_ext  %loadpy  %logoff  %logon  %logstart  %logstate  %logstop  %ls  %lsmagic  %lx  %macro  %magic  %mamba  %man  %matplotlib  %micromamba  %mkdir  %more  %mv  %notebook  %page  %pastebin  %pdb  %pdef  %pdoc  %pfile  %pinfo  %pinfo2  %pip  %popd  %pprint  %precision  %prun  %psearch  %psource  %pushd  %pwd  %pycat  %pylab  %qtconsole  %quickref  %recall  %rehashx  %reload_ext  %rep  %rerun  %reset  %reset_selective  %rm  %rmdir  %run  %save  %sc  %set_env  %store  %sx  %system  %tb  %time  %timeit  %unalias  %unload_ext  %who  %who_ls  %whos  %xdel  %xmode\n",
       "\n",
       "Available cell magics:\n",
       "%%!  %%HTML  %%SVG  %%bash  %%capture  %%code_wrap  %%debug  %%file  %%html  %%javascript  %%js  %%latex  %%markdown  %%perl  %%prun  %%pypy  %%python  %%python2  %%python3  %%ruby  %%script  %%sh  %%svg  %%sx  %%system  %%time  %%timeit  %%writefile\n",
       "\n",
       "Automagic is ON, % prefix IS NOT needed for line magics."
      ],
      "application/json": {
       "line": {
        "automagic": "AutoMagics",
        "autocall": "AutoMagics",
        "alias_magic": "BasicMagics",
        "lsmagic": "BasicMagics",
        "magic": "BasicMagics",
        "page": "BasicMagics",
        "pprint": "BasicMagics",
        "colors": "BasicMagics",
        "xmode": "BasicMagics",
        "quickref": "BasicMagics",
        "doctest_mode": "BasicMagics",
        "gui": "BasicMagics",
        "precision": "BasicMagics",
        "notebook": "BasicMagics",
        "save": "CodeMagics",
        "pastebin": "CodeMagics",
        "loadpy": "CodeMagics",
        "load": "CodeMagics",
        "edit": "KernelMagics",
        "config": "ConfigMagics",
        "prun": "ExecutionMagics",
        "pdb": "ExecutionMagics",
        "debug": "ExecutionMagics",
        "tb": "ExecutionMagics",
        "run": "ExecutionMagics",
        "timeit": "ExecutionMagics",
        "time": "ExecutionMagics",
        "macro": "ExecutionMagics",
        "code_wrap": "ExecutionMagics",
        "load_ext": "ExtensionMagics",
        "unload_ext": "ExtensionMagics",
        "reload_ext": "ExtensionMagics",
        "history": "HistoryMagics",
        "recall": "HistoryMagics",
        "rerun": "HistoryMagics",
        "logstart": "LoggingMagics",
        "logstop": "LoggingMagics",
        "logoff": "LoggingMagics",
        "logon": "LoggingMagics",
        "logstate": "LoggingMagics",
        "pinfo": "NamespaceMagics",
        "pinfo2": "NamespaceMagics",
        "pdef": "NamespaceMagics",
        "pdoc": "NamespaceMagics",
        "psource": "NamespaceMagics",
        "pfile": "NamespaceMagics",
        "psearch": "NamespaceMagics",
        "who_ls": "NamespaceMagics",
        "who": "NamespaceMagics",
        "whos": "NamespaceMagics",
        "reset": "NamespaceMagics",
        "reset_selective": "NamespaceMagics",
        "xdel": "NamespaceMagics",
        "alias": "OSMagics",
        "unalias": "OSMagics",
        "rehashx": "OSMagics",
        "pwd": "OSMagics",
        "cd": "OSMagics",
        "env": "OSMagics",
        "set_env": "OSMagics",
        "pushd": "OSMagics",
        "popd": "OSMagics",
        "dirs": "OSMagics",
        "dhist": "OSMagics",
        "sc": "OSMagics",
        "sx": "OSMagics",
        "system": "OSMagics",
        "bookmark": "OSMagics",
        "pycat": "OSMagics",
        "pip": "PackagingMagics",
        "conda": "PackagingMagics",
        "mamba": "PackagingMagics",
        "micromamba": "PackagingMagics",
        "matplotlib": "PylabMagics",
        "pylab": "PylabMagics",
        "killbgscripts": "ScriptMagics",
        "autoawait": "AsyncMagics",
        "ed": "Other",
        "hist": "Other",
        "rep": "Other",
        "clear": "KernelMagics",
        "less": "KernelMagics",
        "more": "KernelMagics",
        "man": "KernelMagics",
        "connect_info": "KernelMagics",
        "qtconsole": "KernelMagics",
        "autosave": "KernelMagics",
        "mkdir": "Other",
        "rmdir": "Other",
        "mv": "Other",
        "rm": "Other",
        "cp": "Other",
        "cat": "Other",
        "ls": "Other",
        "ll": "Other",
        "lf": "Other",
        "lk": "Other",
        "ldir": "Other",
        "lx": "Other",
        "store": "StoreMagics"
       },
       "cell": {
        "js": "DisplayMagics",
        "javascript": "DisplayMagics",
        "latex": "DisplayMagics",
        "svg": "DisplayMagics",
        "html": "DisplayMagics",
        "markdown": "DisplayMagics",
        "prun": "ExecutionMagics",
        "debug": "ExecutionMagics",
        "timeit": "ExecutionMagics",
        "time": "ExecutionMagics",
        "capture": "ExecutionMagics",
        "code_wrap": "ExecutionMagics",
        "sx": "OSMagics",
        "system": "OSMagics",
        "!": "OSMagics",
        "writefile": "OSMagics",
        "script": "ScriptMagics",
        "sh": "Other",
        "bash": "Other",
        "perl": "Other",
        "ruby": "Other",
        "python": "Other",
        "python2": "Other",
        "python3": "Other",
        "pypy": "Other",
        "SVG": "Other",
        "HTML": "Other",
        "file": "Other"
       }
      }
     },
     "execution_count": 32,
     "metadata": {},
     "output_type": "execute_result"
    }
   ],
   "execution_count": 32
  },
  {
   "metadata": {
    "ExecuteTime": {
     "end_time": "2024-11-11T21:29:39.438303Z",
     "start_time": "2024-11-11T21:29:39.432791Z"
    }
   },
   "cell_type": "code",
   "source": [
    "def avg_age_out_warsaw(persons):\n",
    "    age_pers = 0\n",
    "    counter = 0\n",
    "    \n",
    "    for person in persons:\n",
    "        if person['city'].lower() != 'warszawa':\n",
    "            age_pers += person['age']\n",
    "            counter += 1\n",
    "            \n",
    "    return age_pers // counter\n",
    "    # return age_pers\n",
    "    # return counter"
   ],
   "id": "5c97a16a5daf59f2",
   "outputs": [],
   "execution_count": 53
  },
  {
   "metadata": {
    "ExecuteTime": {
     "end_time": "2024-11-11T21:29:42.064780Z",
     "start_time": "2024-11-11T21:29:42.058942Z"
    }
   },
   "cell_type": "code",
   "source": "avg_age_out_warsaw(data)",
   "id": "64cace1acff55ddd",
   "outputs": [
    {
     "data": {
      "text/plain": [
       "34"
      ]
     },
     "execution_count": 54,
     "metadata": {},
     "output_type": "execute_result"
    }
   ],
   "execution_count": 54
  },
  {
   "metadata": {
    "ExecuteTime": {
     "end_time": "2024-11-12T15:34:19.377428Z",
     "start_time": "2024-11-12T15:34:19.357099Z"
    }
   },
   "cell_type": "code",
   "source": [
    "def avg_age_out_warsaw_2(persons):\n",
    "    list_people_out_warsaw = [person['age'] for person in persons if person['city'].lower != 'warszawa']\n",
    "\n",
    "    return sum(list_people_out_warsaw) // len(list_people_out_warsaw)"
   ],
   "id": "f8d255d235ca38c1",
   "outputs": [],
   "execution_count": 2
  },
  {
   "metadata": {
    "ExecuteTime": {
     "end_time": "2024-11-12T15:34:22.337373Z",
     "start_time": "2024-11-12T15:34:22.315775Z"
    }
   },
   "cell_type": "code",
   "source": "avg_age_out_warsaw_2(data)",
   "id": "ebd75211014aacf0",
   "outputs": [
    {
     "data": {
      "text/plain": [
       "35"
      ]
     },
     "execution_count": 3,
     "metadata": {},
     "output_type": "execute_result"
    }
   ],
   "execution_count": 3
  },
  {
   "metadata": {
    "ExecuteTime": {
     "end_time": "2024-11-11T21:53:58.114472Z",
     "start_time": "2024-11-11T21:53:58.108666Z"
    }
   },
   "cell_type": "code",
   "source": [
    "def avg_age_out_warsaw_3(data_):\n",
    "    # people_not_in_warsaw = filter(callable, iterable)\n",
    "    # people_not_in_warsaw = filter(lambda person: person['city'].lower() != 'warszawa', data_)\n",
    "    # people_not_in_warsaw = map(callable, filter(lambda person: person['city'].lower() != 'warszawa', data_))\n",
    "    people_not_in_warsaw = tuple(map(lambda person: person['age'], filter(lambda person: person['city'].lower() != 'warszawa', data_)))\n",
    "    return sum(people_not_in_warsaw) // len(people_not_in_warsaw)\n",
    "    "
   ],
   "id": "fe7f8022143ae25c",
   "outputs": [],
   "execution_count": 72
  },
  {
   "metadata": {
    "ExecuteTime": {
     "end_time": "2024-11-11T21:54:00.616845Z",
     "start_time": "2024-11-11T21:54:00.610806Z"
    }
   },
   "cell_type": "code",
   "source": "avg_age_out_warsaw_3(data)",
   "id": "c3f275b33f3d1b89",
   "outputs": [
    {
     "data": {
      "text/plain": [
       "34"
      ]
     },
     "execution_count": 73,
     "metadata": {},
     "output_type": "execute_result"
    }
   ],
   "execution_count": 73
  },
  {
   "metadata": {
    "ExecuteTime": {
     "end_time": "2024-11-12T18:42:20.656465Z",
     "start_time": "2024-11-12T18:42:20.651712Z"
    }
   },
   "cell_type": "code",
   "source": "from functools import reduce",
   "id": "fb59e3319b649c98",
   "outputs": [],
   "execution_count": 6
  },
  {
   "metadata": {
    "ExecuteTime": {
     "end_time": "2024-11-12T18:42:24.273329Z",
     "start_time": "2024-11-12T18:42:24.263151Z"
    }
   },
   "cell_type": "code",
   "source": [
    "# TODO using reduce to calculate average age :\n",
    "# reduce takes two parameters and one optional\n",
    "# reduce(callable, iterable, initial_state)\n",
    "# TODO acc: accumulator , ce: current element\n",
    "\n",
    "def avg_age_reduce(data_):\n",
    "    # return reduce(callable, iterable, initial_state)\n",
    "    return reduce(lambda acc, ce: acc + ce['age'], data_, 0) // len(data_)\n",
    "    \n",
    "\n",
    "\n",
    "\n",
    "avg_age_reduce(data)"
   ],
   "id": "5a34dbdc59ce8842",
   "outputs": [
    {
     "data": {
      "text/plain": [
       "35"
      ]
     },
     "execution_count": 7,
     "metadata": {},
     "output_type": "execute_result"
    }
   ],
   "execution_count": 7
  },
  {
   "metadata": {
    "ExecuteTime": {
     "end_time": "2024-11-12T18:42:27.281357Z",
     "start_time": "2024-11-12T18:42:27.274648Z"
    }
   },
   "cell_type": "code",
   "source": [
    "# TODO initial value is always None , after that acc takes first element from list and add to second element\n",
    "\n",
    "# 1 + 2 = 3\n",
    "# 3 + 3 = 6\n",
    "# 6 + 4 = 10\n",
    "# 10 + 5 = 15\n",
    "\n",
    "digits = [1, 2, 3, 4, 5]\n",
    "\n",
    "reduce (lambda acc, ce: acc + ce, digits)"
   ],
   "id": "e284a396b4f23e09",
   "outputs": [
    {
     "data": {
      "text/plain": [
       "15"
      ]
     },
     "execution_count": 8,
     "metadata": {},
     "output_type": "execute_result"
    }
   ],
   "execution_count": 8
  },
  {
   "metadata": {
    "ExecuteTime": {
     "end_time": "2024-11-12T18:42:30.848949Z",
     "start_time": "2024-11-12T18:42:30.842388Z"
    }
   },
   "cell_type": "code",
   "source": [
    "def implementation_reduce(array):\n",
    "    suma = 0\n",
    "    for i in range(len(array)):\n",
    "        suma += array[i]\n",
    "    return suma\n",
    "\n",
    "implementation_reduce(digits)"
   ],
   "id": "edc9744f58a2adc3",
   "outputs": [
    {
     "data": {
      "text/plain": [
       "15"
      ]
     },
     "execution_count": 9,
     "metadata": {},
     "output_type": "execute_result"
    }
   ],
   "execution_count": 9
  },
  {
   "metadata": {
    "ExecuteTime": {
     "end_time": "2024-11-12T18:42:52.374622Z",
     "start_time": "2024-11-12T18:42:52.367741Z"
    }
   },
   "cell_type": "code",
   "source": [
    "def sum_of_consecutive_elements(array):\n",
    "    total = 0\n",
    "    for element in array:\n",
    "        total += element\n",
    "    return total\n",
    "\n",
    "sum_of_consecutive_elements(digits)"
   ],
   "id": "deb08d0e6868646f",
   "outputs": [
    {
     "data": {
      "text/plain": [
       "15"
      ]
     },
     "execution_count": 11,
     "metadata": {},
     "output_type": "execute_result"
    }
   ],
   "execution_count": 11
  },
  {
   "metadata": {
    "ExecuteTime": {
     "end_time": "2024-11-12T18:43:06.743681Z",
     "start_time": "2024-11-12T18:43:06.737173Z"
    }
   },
   "cell_type": "code",
   "source": [
    "def cumulative_sum(array):\n",
    "    total = 0\n",
    "    score = []\n",
    "    for element in array:\n",
    "        total += element\n",
    "        score.append(total)\n",
    "    return score\n",
    "\n",
    "cumulative_sum(digits)"
   ],
   "id": "a4aa798193ca8fe7",
   "outputs": [
    {
     "data": {
      "text/plain": [
       "[1, 3, 6, 10, 15]"
      ]
     },
     "execution_count": 12,
     "metadata": {},
     "output_type": "execute_result"
    }
   ],
   "execution_count": 12
  },
  {
   "metadata": {},
   "cell_type": "code",
   "outputs": [],
   "execution_count": null,
   "source": "",
   "id": "e8a6feef6d5d3ee1"
  },
  {
   "metadata": {
    "ExecuteTime": {
     "end_time": "2024-11-12T16:57:43.003465Z",
     "start_time": "2024-11-12T16:57:42.979288Z"
    }
   },
   "cell_type": "code",
   "source": [
    "# TODO map implementation without lazy evaluation \n",
    "\n",
    "digits = [1, 2, 3, 4, 5]\n",
    "\n",
    "def map_(callback, collection):\n",
    "    result = []\n",
    "    for element in collection:\n",
    "        result.append(callback(element))\n",
    "    return result\n",
    "\n",
    "map_(lambda digit: digit * 2, digits)"
   ],
   "id": "c14210de1005b736",
   "outputs": [
    {
     "data": {
      "text/plain": [
       "[2, 4, 6, 8, 10]"
      ]
     },
     "execution_count": 14,
     "metadata": {},
     "output_type": "execute_result"
    }
   ],
   "execution_count": 14
  },
  {
   "metadata": {},
   "cell_type": "code",
   "outputs": [],
   "execution_count": null,
   "source": [
    "\n",
    "\n"
   ],
   "id": "13ff64aa85e464ec"
  },
  {
   "metadata": {},
   "cell_type": "code",
   "outputs": [],
   "execution_count": null,
   "source": "",
   "id": "3a3e69c1a1922818"
  },
  {
   "metadata": {},
   "cell_type": "code",
   "outputs": [],
   "execution_count": null,
   "source": "",
   "id": "2616a52944c36941"
  },
  {
   "metadata": {},
   "cell_type": "code",
   "outputs": [],
   "execution_count": null,
   "source": "",
   "id": "aaf6f10dfa4d6a90"
  },
  {
   "metadata": {},
   "cell_type": "code",
   "outputs": [],
   "execution_count": null,
   "source": "",
   "id": "37b1dc58a68cdbb"
  },
  {
   "metadata": {},
   "cell_type": "code",
   "outputs": [],
   "execution_count": null,
   "source": "",
   "id": "13678f31bbb38b71"
  },
  {
   "metadata": {},
   "cell_type": "code",
   "outputs": [],
   "execution_count": null,
   "source": "",
   "id": "795cfd147b8a53b3"
  },
  {
   "metadata": {},
   "cell_type": "code",
   "outputs": [],
   "execution_count": null,
   "source": "",
   "id": "54acdadb5fdf1e92"
  },
  {
   "metadata": {},
   "cell_type": "code",
   "outputs": [],
   "execution_count": null,
   "source": "",
   "id": "3f25da914cb3069d"
  }
 ],
 "metadata": {
  "kernelspec": {
   "display_name": "Python 3",
   "language": "python",
   "name": "python3"
  },
  "language_info": {
   "codemirror_mode": {
    "name": "ipython",
    "version": 2
   },
   "file_extension": ".py",
   "mimetype": "text/x-python",
   "name": "python",
   "nbconvert_exporter": "python",
   "pygments_lexer": "ipython2",
   "version": "2.7.6"
  }
 },
 "nbformat": 4,
 "nbformat_minor": 5
}
