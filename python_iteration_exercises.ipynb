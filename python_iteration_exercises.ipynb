{
 "cells": [
  {
   "cell_type": "code",
   "id": "initial_id",
   "metadata": {
    "collapsed": true,
    "ExecuteTime": {
     "end_time": "2024-10-24T21:57:00.633827Z",
     "start_time": "2024-10-24T21:57:00.627690Z"
    }
   },
   "source": [
    "data = [\n",
    "    {\n",
    "        \"name\": \"pawel\",\n",
    "        \"age\": 39,\n",
    "        \"city\": \"krakow\",\n",
    "        \"hobbies\": [\"js\", \"python\", \"drugs\"]\n",
    "    },\n",
    "    {\n",
    "        \"name\": \"kamil\",\n",
    "        \"age\": 28,\n",
    "        \"city\": \"gryfino\",\n",
    "        \"hobbies\": [\"js\", \"python\", \"godot\"]\n",
    "    },\n",
    "    {\n",
    "        \"name\": \"szymon\",\n",
    "        \"age\": 30,\n",
    "        \"city\": \"legnica\",\n",
    "        \"hobbies\": [\"crypto\", \"work\"]\n",
    "    },\n",
    "    {\n",
    "        \"name\": \"mateusz\",\n",
    "        \"age\": 30,\n",
    "        \"city\": \"wroclaw\",\n",
    "        \"hobbies\": [\"bjj\", \"coding\", \"movies\"]\n",
    "    },\n",
    "    {\n",
    "        'name': 'piotr',\n",
    "        'age': 34,\n",
    "        'city': 'warszawa',\n",
    "        'hobbies': ['climbing', 'running', 'python']\n",
    "    },\n",
    "    {\n",
    "        'name': 'dawid',\n",
    "        'age': 36,\n",
    "        'city': 'torun',\n",
    "        'hobbies': ['boardgames', 'football', 'squash']\n",
    "    },\n",
    "    {\n",
    "        \"name\": \"aleksandra\",\n",
    "        \"age\": 29,\n",
    "        \"city\": \"poznan\",\n",
    "        \"hobbies\": [\"music\", \"art\", \"math\"]\n",
    "    },\n",
    "    {\n",
    "        \"name\": \"renata\",\n",
    "        \"age\": 29,\n",
    "        \"city\": \"sosnowiec\",\n",
    "        \"hobbies\": [\"photography\", \"literature\", \"trips\"]\n",
    "    },\n",
    "    {\n",
    "        'name': \"lukasz\",\n",
    "        'age': 37,\n",
    "        'city': 'brwinow',\n",
    "        'hobbies': ['Cycling', 'Home Beer brewing', 'Learning new things'],\n",
    "    },\n",
    "    {\n",
    "        \"name\": \"bartek\",\n",
    "        \"age\": 47,\n",
    "        \"city\": \"warszawa\",\n",
    "        \"hobbies\": [\"gry\", \"muzyka\", \"filmy\"]\n",
    "    },\n",
    "    {\n",
    "        \"name\": \"igor\",\n",
    "        \"age\": 31,\n",
    "        \"city\": \"wroclaw\",\n",
    "        \"hobbies\": [\"anime\", \"mangi\", \"gry\"]\n",
    "    },\n",
    "    {\n",
    "        \"name\": \"magda\",\n",
    "        \"age\": 31,\n",
    "        \"city\": \"torun\",\n",
    "        \"hobbies\": [\"books\", \"jogging\", \"plants\"]\n",
    "    },\n",
    "    {\n",
    "        \"name\": \"karol\",\n",
    "        \"age\": 38,\n",
    "        \"city\": \"warszawa\",\n",
    "        \"hobbies\": [\"sport\", \"music\", \"culinary\"]\n",
    "    },\n",
    "    {\n",
    "        \"name\": \"pawel\",\n",
    "        \"age\": 33,\n",
    "        \"city\": \"poznan\",\n",
    "        \"hobbies\": [\"music\", \"traveling\", \"photography\"]\n",
    "    }\n",
    "]"
   ],
   "outputs": [],
   "execution_count": 35
  },
  {
   "metadata": {
    "ExecuteTime": {
     "end_time": "2024-10-24T20:27:03.485832Z",
     "start_time": "2024-10-24T20:27:03.465023Z"
    }
   },
   "cell_type": "code",
   "source": "len(data)",
   "id": "b2546edbd8ec490",
   "outputs": [
    {
     "data": {
      "text/plain": [
       "14"
      ]
     },
     "execution_count": 2,
     "metadata": {},
     "output_type": "execute_result"
    }
   ],
   "execution_count": 2
  },
  {
   "metadata": {},
   "cell_type": "markdown",
   "source": "### Policz srednia wieku",
   "id": "87b9fc8924f6ea42"
  },
  {
   "metadata": {
    "ExecuteTime": {
     "end_time": "2024-10-24T20:37:40.801179Z",
     "start_time": "2024-10-24T20:37:40.797427Z"
    }
   },
   "cell_type": "code",
   "source": [
    "def avg_age(dataset):\n",
    "    total_age= 0\n",
    "    \n",
    "    for person in dataset:\n",
    "        total_age += person['age']\n",
    "    \n",
    "    return total_age/len(dataset)\n",
    "        "
   ],
   "id": "b80c49ee11a5ea39",
   "outputs": [],
   "execution_count": 4
  },
  {
   "metadata": {
    "ExecuteTime": {
     "end_time": "2024-10-24T20:37:44.857565Z",
     "start_time": "2024-10-24T20:37:44.851247Z"
    }
   },
   "cell_type": "code",
   "source": "avg_age(data)",
   "id": "ef089749d479d18c",
   "outputs": [
    {
     "data": {
      "text/plain": [
       "33.714285714285715"
      ]
     },
     "execution_count": 5,
     "metadata": {},
     "output_type": "execute_result"
    }
   ],
   "execution_count": 5
  },
  {
   "metadata": {
    "ExecuteTime": {
     "end_time": "2024-10-24T20:40:04.974746Z",
     "start_time": "2024-10-24T20:40:04.968009Z"
    }
   },
   "cell_type": "code",
   "source": [
    "def avg_age_2(dataset):\n",
    "    return sum(person['age'] for person in dataset) / len(dataset)"
   ],
   "id": "6584a4449b6871c5",
   "outputs": [],
   "execution_count": 6
  },
  {
   "metadata": {
    "ExecuteTime": {
     "end_time": "2024-10-24T20:43:36.286659Z",
     "start_time": "2024-10-24T20:43:36.280736Z"
    }
   },
   "cell_type": "code",
   "source": "avg_age_2(data)",
   "id": "9ae9dc542acc3d10",
   "outputs": [
    {
     "data": {
      "text/plain": [
       "33.714285714285715"
      ]
     },
     "execution_count": 7,
     "metadata": {},
     "output_type": "execute_result"
    }
   ],
   "execution_count": 7
  },
  {
   "metadata": {
    "ExecuteTime": {
     "end_time": "2024-10-24T20:49:54.879243Z",
     "start_time": "2024-10-24T20:49:54.871907Z"
    }
   },
   "cell_type": "code",
   "source": [
    "def avg_age_3(dataset):\n",
    "    return sum(map(lambda person: person['age'], dataset)) / len(dataset)"
   ],
   "id": "1b8575d3a16e5ef8",
   "outputs": [],
   "execution_count": 8
  },
  {
   "metadata": {
    "ExecuteTime": {
     "end_time": "2024-10-24T20:50:12.713799Z",
     "start_time": "2024-10-24T20:50:12.706634Z"
    }
   },
   "cell_type": "code",
   "source": "avg_age_3(data)",
   "id": "7068757caf03ade4",
   "outputs": [
    {
     "data": {
      "text/plain": [
       "33.714285714285715"
      ]
     },
     "execution_count": 9,
     "metadata": {},
     "output_type": "execute_result"
    }
   ],
   "execution_count": 9
  },
  {
   "metadata": {
    "ExecuteTime": {
     "end_time": "2024-10-24T20:52:45.275527Z",
     "start_time": "2024-10-24T20:52:45.268518Z"
    }
   },
   "cell_type": "code",
   "source": [
    "x = map(lambda x: x * 2, [1, 2, 3, 4, 5])\n",
    "x"
   ],
   "id": "b0c5824a650d134b",
   "outputs": [
    {
     "data": {
      "text/plain": [
       "<map at 0x7167f441f100>"
      ]
     },
     "execution_count": 10,
     "metadata": {},
     "output_type": "execute_result"
    }
   ],
   "execution_count": 10
  },
  {
   "metadata": {
    "ExecuteTime": {
     "end_time": "2024-10-24T20:53:09.646876Z",
     "start_time": "2024-10-24T20:53:09.640245Z"
    }
   },
   "cell_type": "code",
   "source": "list(x)",
   "id": "3d6693cdb52272a8",
   "outputs": [
    {
     "data": {
      "text/plain": [
       "[2, 4, 6, 8, 10]"
      ]
     },
     "execution_count": 11,
     "metadata": {},
     "output_type": "execute_result"
    }
   ],
   "execution_count": 11
  },
  {
   "metadata": {
    "ExecuteTime": {
     "end_time": "2024-10-24T21:11:04.785070Z",
     "start_time": "2024-10-24T21:11:04.780238Z"
    }
   },
   "cell_type": "code",
   "source": "d = [\"a\", \"b\", \"c\", \"d\", \"e\", \"f\", \"g\", \"h\", \"i\", \"j\"]",
   "id": "28bcbf596388494e",
   "outputs": [],
   "execution_count": 12
  },
  {
   "metadata": {
    "ExecuteTime": {
     "end_time": "2024-10-24T21:11:29.250191Z",
     "start_time": "2024-10-24T21:11:29.245577Z"
    }
   },
   "cell_type": "code",
   "source": [
    "counter = 0\n",
    "for item in d:\n",
    "    print(item, counter)\n",
    "    counter += 1"
   ],
   "id": "a028bb915d1f6fd0",
   "outputs": [
    {
     "name": "stdout",
     "output_type": "stream",
     "text": [
      "a 0\n",
      "b 1\n",
      "c 2\n",
      "d 3\n",
      "e 4\n",
      "f 5\n",
      "g 6\n",
      "h 7\n",
      "i 8\n",
      "j 9\n"
     ]
    }
   ],
   "execution_count": 15
  },
  {
   "metadata": {
    "ExecuteTime": {
     "end_time": "2024-10-24T21:15:30.607028Z",
     "start_time": "2024-10-24T21:15:30.599367Z"
    }
   },
   "cell_type": "code",
   "source": [
    "for idx, item in enumerate(d):\n",
    "    print(item, idx)"
   ],
   "id": "82e1cbb04746187b",
   "outputs": [
    {
     "name": "stdout",
     "output_type": "stream",
     "text": [
      "a 0\n",
      "b 1\n",
      "c 2\n",
      "d 3\n",
      "e 4\n",
      "f 5\n",
      "g 6\n",
      "h 7\n",
      "i 8\n",
      "j 9\n"
     ]
    }
   ],
   "execution_count": 19
  },
  {
   "metadata": {
    "ExecuteTime": {
     "end_time": "2024-10-24T21:17:26.905988Z",
     "start_time": "2024-10-24T21:17:26.898525Z"
    }
   },
   "cell_type": "code",
   "source": "list(map(lambda item: item * 2, d))",
   "id": "f2d9c2719ced1e8b",
   "outputs": [
    {
     "data": {
      "text/plain": [
       "['aa', 'bb', 'cc', 'dd', 'ee', 'ff', 'gg', 'hh', 'ii', 'jj']"
      ]
     },
     "execution_count": 21,
     "metadata": {},
     "output_type": "execute_result"
    }
   ],
   "execution_count": 21
  },
  {
   "metadata": {},
   "cell_type": "code",
   "outputs": [],
   "execution_count": null,
   "source": "# Policz srednia wieku ludzi z po za warszawy",
   "id": "d1545cb3923c8814"
  },
  {
   "metadata": {},
   "cell_type": "code",
   "outputs": [],
   "execution_count": null,
   "source": [
    "def avg_age_2(dataset):\n",
    "    return sum(person['age'] for person in dataset) / len(dataset)"
   ],
   "id": "6fa473b021debcb8"
  },
  {
   "metadata": {
    "ExecuteTime": {
     "end_time": "2024-10-24T21:59:05.599993Z",
     "start_time": "2024-10-24T21:59:05.596188Z"
    }
   },
   "cell_type": "code",
   "source": [
    "def avg_age_people_out_warsaw_1(dataset):\n",
    "    ages = [person['age'] for person in dataset if person['city'].lower() != 'warszawa']\n",
    "    return sum(ages) / len(ages)"
   ],
   "id": "3af76c46183cfb77",
   "outputs": [],
   "execution_count": 37
  },
  {
   "metadata": {
    "ExecuteTime": {
     "end_time": "2024-10-24T21:59:13.278527Z",
     "start_time": "2024-10-24T21:59:13.272601Z"
    }
   },
   "cell_type": "code",
   "source": "avg_age_people_out_warsaw_1(data)",
   "id": "3f7bf4c86ed952a6",
   "outputs": [
    {
     "data": {
      "text/plain": [
       "32.09090909090909"
      ]
     },
     "execution_count": 38,
     "metadata": {},
     "output_type": "execute_result"
    }
   ],
   "execution_count": 38
  },
  {
   "metadata": {
    "ExecuteTime": {
     "end_time": "2024-10-24T22:02:35.070350Z",
     "start_time": "2024-10-24T22:02:35.066378Z"
    }
   },
   "cell_type": "code",
   "source": [
    "def avg_age_people_out_warsaw_2(dataset):\n",
    "    \n",
    "    total_age = 0\n",
    "    counter = 0\n",
    "    \n",
    "    for person in dataset:\n",
    "        if person['city'].lower() != 'warszawa':\n",
    "            total_age += person['age']\n",
    "            counter += 1\n",
    "    return total_age / counter\n",
    "    "
   ],
   "id": "1de3c0a3086369cc",
   "outputs": [],
   "execution_count": 40
  },
  {
   "metadata": {
    "ExecuteTime": {
     "end_time": "2024-10-24T22:02:39.582080Z",
     "start_time": "2024-10-24T22:02:39.576826Z"
    }
   },
   "cell_type": "code",
   "source": "avg_age_people_out_warsaw_2(data)",
   "id": "cb24cb4788ef3a64",
   "outputs": [
    {
     "data": {
      "text/plain": [
       "32.09090909090909"
      ]
     },
     "execution_count": 41,
     "metadata": {},
     "output_type": "execute_result"
    }
   ],
   "execution_count": 41
  },
  {
   "metadata": {
    "ExecuteTime": {
     "end_time": "2024-10-24T22:25:25.535509Z",
     "start_time": "2024-10-24T22:25:25.531486Z"
    }
   },
   "cell_type": "code",
   "source": [
    "def avg_age_people_out_warsaw_3(dataset):\n",
    "    # ages = filter(fn, iterable)\n",
    "    # ages = filter(lambda, dataset)\n",
    "    ages = list(filter(lambda person: person['city'].lower() != 'warszawa', dataset))\n",
    "    return sum(map(lambda person: person['age'], ages)) / len(ages)"
   ],
   "id": "f60ce0b54421f819",
   "outputs": [],
   "execution_count": 43
  },
  {
   "metadata": {
    "ExecuteTime": {
     "end_time": "2024-10-24T22:25:44.996878Z",
     "start_time": "2024-10-24T22:25:44.990810Z"
    }
   },
   "cell_type": "code",
   "source": "avg_age_people_out_warsaw_3(data)",
   "id": "8c2d78ddbb42625b",
   "outputs": [
    {
     "data": {
      "text/plain": [
       "32.09090909090909"
      ]
     },
     "execution_count": 44,
     "metadata": {},
     "output_type": "execute_result"
    }
   ],
   "execution_count": 44
  },
  {
   "metadata": {},
   "cell_type": "markdown",
   "source": "## Zwroc imiona osob ktore sa z warszawy",
   "id": "3b771b7058f1dec7"
  },
  {
   "metadata": {
    "ExecuteTime": {
     "end_time": "2024-10-24T22:38:55.489204Z",
     "start_time": "2024-10-24T22:38:55.485196Z"
    }
   },
   "cell_type": "code",
   "source": [
    "def give_back_names_people_from_waw(dataset):\n",
    "    return tuple(names['name'] for names in dataset if names['city'].lower() == 'warszawa' )"
   ],
   "id": "70c10c536344ec39",
   "outputs": [],
   "execution_count": 51
  },
  {
   "metadata": {
    "ExecuteTime": {
     "end_time": "2024-10-24T22:38:58.404977Z",
     "start_time": "2024-10-24T22:38:58.398824Z"
    }
   },
   "cell_type": "code",
   "source": "give_back_names_people_from_waw(data)",
   "id": "d37b4b8202f99c91",
   "outputs": [
    {
     "data": {
      "text/plain": [
       "('piotr', 'bartek', 'karol')"
      ]
     },
     "execution_count": 52,
     "metadata": {},
     "output_type": "execute_result"
    }
   ],
   "execution_count": 52
  },
  {
   "metadata": {
    "ExecuteTime": {
     "end_time": "2024-10-24T22:35:55.420395Z",
     "start_time": "2024-10-24T22:35:55.414942Z"
    }
   },
   "cell_type": "code",
   "source": [
    "\n",
    "def give_back_names_people_from_waw_2(dataset):\n",
    "    names = []\n",
    "    for person in dataset:\n",
    "        if person['city'].lower() == 'warszawa':\n",
    "            names.append(person['name'])\n",
    "    return names"
   ],
   "id": "659ed8954f20eb9f",
   "outputs": [],
   "execution_count": 47
  },
  {
   "metadata": {
    "ExecuteTime": {
     "end_time": "2024-10-24T22:36:46.044708Z",
     "start_time": "2024-10-24T22:36:46.039878Z"
    }
   },
   "cell_type": "code",
   "source": "give_back_names_people_from_waw_2(data)",
   "id": "17dee04ad509c301",
   "outputs": [
    {
     "data": {
      "text/plain": [
       "['piotr', 'bartek', 'karol']"
      ]
     },
     "execution_count": 48,
     "metadata": {},
     "output_type": "execute_result"
    }
   ],
   "execution_count": 48
  },
  {
   "metadata": {},
   "cell_type": "code",
   "outputs": [],
   "execution_count": null,
   "source": "",
   "id": "9eaba7fe76b1dc47"
  }
 ],
 "metadata": {
  "kernelspec": {
   "display_name": "Python 3",
   "language": "python",
   "name": "python3"
  },
  "language_info": {
   "codemirror_mode": {
    "name": "ipython",
    "version": 2
   },
   "file_extension": ".py",
   "mimetype": "text/x-python",
   "name": "python",
   "nbconvert_exporter": "python",
   "pygments_lexer": "ipython2",
   "version": "2.7.6"
  }
 },
 "nbformat": 4,
 "nbformat_minor": 5
}
