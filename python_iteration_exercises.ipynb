{
 "cells": [
  {
   "cell_type": "code",
   "id": "initial_id",
   "metadata": {
    "collapsed": true,
    "ExecuteTime": {
     "end_time": "2024-10-25T18:13:54.417319Z",
     "start_time": "2024-10-25T18:13:54.408329Z"
    }
   },
   "source": [
    "data = [\n",
    "    {\n",
    "        \"name\": \"pawel\",\n",
    "        \"age\": 39,\n",
    "        \"city\": \"krakow\",\n",
    "        \"hobbies\": [\"js\", \"python\", \"drugs\"]\n",
    "    },\n",
    "    {\n",
    "        \"name\": \"kamil\",\n",
    "        \"age\": 28,\n",
    "        \"city\": \"gryfino\",\n",
    "        \"hobbies\": [\"js\", \"python\", \"godot\"]\n",
    "    },\n",
    "    {\n",
    "        \"name\": \"szymon\",\n",
    "        \"age\": 30,\n",
    "        \"city\": \"legnica\",\n",
    "        \"hobbies\": [\"crypto\", \"work\"]\n",
    "    },\n",
    "    {\n",
    "        \"name\": \"mateusz\",\n",
    "        \"age\": 30,\n",
    "        \"city\": \"wroclaw\",\n",
    "        \"hobbies\": [\"bjj\", \"coding\", \"movies\"]\n",
    "    },\n",
    "    {\n",
    "        'name': 'piotr',\n",
    "        'age': 34,\n",
    "        'city': 'warszawa',\n",
    "        'hobbies': ['climbing', 'running', 'python']\n",
    "    },\n",
    "    {\n",
    "        'name': 'dawid',\n",
    "        'age': 36,\n",
    "        'city': 'torun',\n",
    "        'hobbies': ['boardgames', 'football', 'squash']\n",
    "    },\n",
    "    {\n",
    "        \"name\": \"aleksandra\",\n",
    "        \"age\": 29,\n",
    "        \"city\": \"poznan\",\n",
    "        \"hobbies\": [\"music\", \"art\", \"math\"]\n",
    "    },\n",
    "    {\n",
    "        \"name\": \"renata\",\n",
    "        \"age\": 29,\n",
    "        \"city\": \"sosnowiec\",\n",
    "        \"hobbies\": [\"photography\", \"literature\", \"trips\"]\n",
    "    },\n",
    "    {\n",
    "        'name': \"lukasz\",\n",
    "        'age': 37,\n",
    "        'city': 'brwinow',\n",
    "        'hobbies': ['Cycling', 'Home Beer brewing', 'Learning new things'],\n",
    "    },\n",
    "    {\n",
    "        \"name\": \"bartek\",\n",
    "        \"age\": 47,\n",
    "        \"city\": \"warszawa\",\n",
    "        \"hobbies\": [\"gry\", \"muzyka\", \"filmy\"]\n",
    "    },\n",
    "    {\n",
    "        \"name\": \"igor\",\n",
    "        \"age\": 31,\n",
    "        \"city\": \"wroclaw\",\n",
    "        \"hobbies\": [\"anime\", \"mangi\", \"gry\"]\n",
    "    },\n",
    "    {\n",
    "        \"name\": \"magda\",\n",
    "        \"age\": 31,\n",
    "        \"city\": \"torun\",\n",
    "        \"hobbies\": [\"books\", \"jogging\", \"plants\"]\n",
    "    },\n",
    "    {\n",
    "        \"name\": \"karol\",\n",
    "        \"age\": 38,\n",
    "        \"city\": \"warszawa\",\n",
    "        \"hobbies\": [\"sport\", \"music\", \"culinary\"]\n",
    "    },\n",
    "    {\n",
    "        \"name\": \"pawel\",\n",
    "        \"age\": 33,\n",
    "        \"city\": \"poznan\",\n",
    "        \"hobbies\": [\"music\", \"traveling\", \"photography\"]\n",
    "    }\n",
    "]"
   ],
   "outputs": [],
   "execution_count": 3
  },
  {
   "metadata": {
    "ExecuteTime": {
     "end_time": "2024-10-24T20:27:03.485832Z",
     "start_time": "2024-10-24T20:27:03.465023Z"
    }
   },
   "cell_type": "code",
   "source": "len(data)",
   "id": "b2546edbd8ec490",
   "outputs": [
    {
     "data": {
      "text/plain": [
       "14"
      ]
     },
     "execution_count": 2,
     "metadata": {},
     "output_type": "execute_result"
    }
   ],
   "execution_count": 2
  },
  {
   "metadata": {},
   "cell_type": "markdown",
   "source": "### Policz srednia wieku",
   "id": "87b9fc8924f6ea42"
  },
  {
   "metadata": {
    "ExecuteTime": {
     "end_time": "2024-10-24T20:37:40.801179Z",
     "start_time": "2024-10-24T20:37:40.797427Z"
    }
   },
   "cell_type": "code",
   "source": [
    "def avg_age(dataset):\n",
    "    total_age= 0\n",
    "    \n",
    "    for person in dataset:\n",
    "        total_age += person['age']\n",
    "    \n",
    "    return total_age/len(dataset)\n",
    "        "
   ],
   "id": "b80c49ee11a5ea39",
   "outputs": [],
   "execution_count": 4
  },
  {
   "metadata": {
    "ExecuteTime": {
     "end_time": "2024-10-24T20:37:44.857565Z",
     "start_time": "2024-10-24T20:37:44.851247Z"
    }
   },
   "cell_type": "code",
   "source": "avg_age(data)",
   "id": "ef089749d479d18c",
   "outputs": [
    {
     "data": {
      "text/plain": [
       "33.714285714285715"
      ]
     },
     "execution_count": 5,
     "metadata": {},
     "output_type": "execute_result"
    }
   ],
   "execution_count": 5
  },
  {
   "metadata": {
    "ExecuteTime": {
     "end_time": "2024-10-24T20:40:04.974746Z",
     "start_time": "2024-10-24T20:40:04.968009Z"
    }
   },
   "cell_type": "code",
   "source": [
    "def avg_age_2(dataset):\n",
    "    return sum(person['age'] for person in dataset) / len(dataset)"
   ],
   "id": "6584a4449b6871c5",
   "outputs": [],
   "execution_count": 6
  },
  {
   "metadata": {
    "ExecuteTime": {
     "end_time": "2024-10-24T20:43:36.286659Z",
     "start_time": "2024-10-24T20:43:36.280736Z"
    }
   },
   "cell_type": "code",
   "source": "avg_age_2(data)",
   "id": "9ae9dc542acc3d10",
   "outputs": [
    {
     "data": {
      "text/plain": [
       "33.714285714285715"
      ]
     },
     "execution_count": 7,
     "metadata": {},
     "output_type": "execute_result"
    }
   ],
   "execution_count": 7
  },
  {
   "metadata": {
    "ExecuteTime": {
     "end_time": "2024-10-24T20:49:54.879243Z",
     "start_time": "2024-10-24T20:49:54.871907Z"
    }
   },
   "cell_type": "code",
   "source": [
    "def avg_age_3(dataset):\n",
    "    return sum(map(lambda person: person['age'], dataset)) / len(dataset)"
   ],
   "id": "1b8575d3a16e5ef8",
   "outputs": [],
   "execution_count": 8
  },
  {
   "metadata": {
    "ExecuteTime": {
     "end_time": "2024-10-24T20:50:12.713799Z",
     "start_time": "2024-10-24T20:50:12.706634Z"
    }
   },
   "cell_type": "code",
   "source": "avg_age_3(data)",
   "id": "7068757caf03ade4",
   "outputs": [
    {
     "data": {
      "text/plain": [
       "33.714285714285715"
      ]
     },
     "execution_count": 9,
     "metadata": {},
     "output_type": "execute_result"
    }
   ],
   "execution_count": 9
  },
  {
   "metadata": {
    "ExecuteTime": {
     "end_time": "2024-10-24T20:52:45.275527Z",
     "start_time": "2024-10-24T20:52:45.268518Z"
    }
   },
   "cell_type": "code",
   "source": [
    "x = map(lambda x: x * 2, [1, 2, 3, 4, 5])\n",
    "x"
   ],
   "id": "b0c5824a650d134b",
   "outputs": [
    {
     "data": {
      "text/plain": [
       "<map at 0x7167f441f100>"
      ]
     },
     "execution_count": 10,
     "metadata": {},
     "output_type": "execute_result"
    }
   ],
   "execution_count": 10
  },
  {
   "metadata": {
    "ExecuteTime": {
     "end_time": "2024-10-24T20:53:09.646876Z",
     "start_time": "2024-10-24T20:53:09.640245Z"
    }
   },
   "cell_type": "code",
   "source": "list(x)",
   "id": "3d6693cdb52272a8",
   "outputs": [
    {
     "data": {
      "text/plain": [
       "[2, 4, 6, 8, 10]"
      ]
     },
     "execution_count": 11,
     "metadata": {},
     "output_type": "execute_result"
    }
   ],
   "execution_count": 11
  },
  {
   "metadata": {
    "ExecuteTime": {
     "end_time": "2024-10-24T21:11:04.785070Z",
     "start_time": "2024-10-24T21:11:04.780238Z"
    }
   },
   "cell_type": "code",
   "source": "d = [\"a\", \"b\", \"c\", \"d\", \"e\", \"f\", \"g\", \"h\", \"i\", \"j\"]",
   "id": "28bcbf596388494e",
   "outputs": [],
   "execution_count": 12
  },
  {
   "metadata": {
    "ExecuteTime": {
     "end_time": "2024-10-24T21:11:29.250191Z",
     "start_time": "2024-10-24T21:11:29.245577Z"
    }
   },
   "cell_type": "code",
   "source": [
    "counter = 0\n",
    "for item in d:\n",
    "    print(item, counter)\n",
    "    counter += 1"
   ],
   "id": "a028bb915d1f6fd0",
   "outputs": [
    {
     "name": "stdout",
     "output_type": "stream",
     "text": [
      "a 0\n",
      "b 1\n",
      "c 2\n",
      "d 3\n",
      "e 4\n",
      "f 5\n",
      "g 6\n",
      "h 7\n",
      "i 8\n",
      "j 9\n"
     ]
    }
   ],
   "execution_count": 15
  },
  {
   "metadata": {
    "ExecuteTime": {
     "end_time": "2024-10-24T21:15:30.607028Z",
     "start_time": "2024-10-24T21:15:30.599367Z"
    }
   },
   "cell_type": "code",
   "source": [
    "for idx, item in enumerate(d):\n",
    "    print(item, idx)"
   ],
   "id": "82e1cbb04746187b",
   "outputs": [
    {
     "name": "stdout",
     "output_type": "stream",
     "text": [
      "a 0\n",
      "b 1\n",
      "c 2\n",
      "d 3\n",
      "e 4\n",
      "f 5\n",
      "g 6\n",
      "h 7\n",
      "i 8\n",
      "j 9\n"
     ]
    }
   ],
   "execution_count": 19
  },
  {
   "metadata": {
    "ExecuteTime": {
     "end_time": "2024-10-24T21:17:26.905988Z",
     "start_time": "2024-10-24T21:17:26.898525Z"
    }
   },
   "cell_type": "code",
   "source": "list(map(lambda item: item * 2, d))",
   "id": "f2d9c2719ced1e8b",
   "outputs": [
    {
     "data": {
      "text/plain": [
       "['aa', 'bb', 'cc', 'dd', 'ee', 'ff', 'gg', 'hh', 'ii', 'jj']"
      ]
     },
     "execution_count": 21,
     "metadata": {},
     "output_type": "execute_result"
    }
   ],
   "execution_count": 21
  },
  {
   "metadata": {},
   "cell_type": "code",
   "outputs": [],
   "execution_count": null,
   "source": "# Policz srednia wieku ludzi z po za warszawy",
   "id": "d1545cb3923c8814"
  },
  {
   "metadata": {},
   "cell_type": "code",
   "outputs": [],
   "execution_count": null,
   "source": [
    "def avg_age_2(dataset):\n",
    "    return sum(person['age'] for person in dataset) / len(dataset)"
   ],
   "id": "6fa473b021debcb8"
  },
  {
   "metadata": {
    "ExecuteTime": {
     "end_time": "2024-10-24T21:59:05.599993Z",
     "start_time": "2024-10-24T21:59:05.596188Z"
    }
   },
   "cell_type": "code",
   "source": [
    "def avg_age_people_out_warsaw_1(dataset):\n",
    "    ages = [person['age'] for person in dataset if person['city'].lower() != 'warszawa']\n",
    "    return sum(ages) / len(ages)"
   ],
   "id": "3af76c46183cfb77",
   "outputs": [],
   "execution_count": 37
  },
  {
   "metadata": {
    "ExecuteTime": {
     "end_time": "2024-10-24T21:59:13.278527Z",
     "start_time": "2024-10-24T21:59:13.272601Z"
    }
   },
   "cell_type": "code",
   "source": "avg_age_people_out_warsaw_1(data)",
   "id": "3f7bf4c86ed952a6",
   "outputs": [
    {
     "data": {
      "text/plain": [
       "32.09090909090909"
      ]
     },
     "execution_count": 38,
     "metadata": {},
     "output_type": "execute_result"
    }
   ],
   "execution_count": 38
  },
  {
   "metadata": {
    "ExecuteTime": {
     "end_time": "2024-10-24T22:02:35.070350Z",
     "start_time": "2024-10-24T22:02:35.066378Z"
    }
   },
   "cell_type": "code",
   "source": [
    "def avg_age_people_out_warsaw_2(dataset):\n",
    "    \n",
    "    total_age = 0\n",
    "    counter = 0\n",
    "    \n",
    "    for person in dataset:\n",
    "        if person['city'].lower() != 'warszawa':\n",
    "            total_age += person['age']\n",
    "            counter += 1\n",
    "    return total_age / counter\n",
    "    "
   ],
   "id": "1de3c0a3086369cc",
   "outputs": [],
   "execution_count": 40
  },
  {
   "metadata": {
    "ExecuteTime": {
     "end_time": "2024-10-24T22:02:39.582080Z",
     "start_time": "2024-10-24T22:02:39.576826Z"
    }
   },
   "cell_type": "code",
   "source": "avg_age_people_out_warsaw_2(data)",
   "id": "cb24cb4788ef3a64",
   "outputs": [
    {
     "data": {
      "text/plain": [
       "32.09090909090909"
      ]
     },
     "execution_count": 41,
     "metadata": {},
     "output_type": "execute_result"
    }
   ],
   "execution_count": 41
  },
  {
   "metadata": {
    "ExecuteTime": {
     "end_time": "2024-10-24T22:25:25.535509Z",
     "start_time": "2024-10-24T22:25:25.531486Z"
    }
   },
   "cell_type": "code",
   "source": [
    "def avg_age_people_out_warsaw_3(dataset):\n",
    "    # ages = filter(fn, iterable)\n",
    "    # ages = filter(lambda, dataset)\n",
    "    ages = list(filter(lambda person: person['city'].lower() != 'warszawa', dataset))\n",
    "    return sum(map(lambda person: person['age'], ages)) / len(ages)"
   ],
   "id": "f60ce0b54421f819",
   "outputs": [],
   "execution_count": 43
  },
  {
   "metadata": {
    "ExecuteTime": {
     "end_time": "2024-10-24T22:25:44.996878Z",
     "start_time": "2024-10-24T22:25:44.990810Z"
    }
   },
   "cell_type": "code",
   "source": "avg_age_people_out_warsaw_3(data)",
   "id": "8c2d78ddbb42625b",
   "outputs": [
    {
     "data": {
      "text/plain": [
       "32.09090909090909"
      ]
     },
     "execution_count": 44,
     "metadata": {},
     "output_type": "execute_result"
    }
   ],
   "execution_count": 44
  },
  {
   "metadata": {},
   "cell_type": "markdown",
   "source": "## Zwroc imiona osob ktore sa z warszawy",
   "id": "3b771b7058f1dec7"
  },
  {
   "metadata": {
    "ExecuteTime": {
     "end_time": "2024-10-24T22:38:55.489204Z",
     "start_time": "2024-10-24T22:38:55.485196Z"
    }
   },
   "cell_type": "code",
   "source": [
    "def give_back_names_people_from_waw(dataset):\n",
    "    return tuple(names['name'] for names in dataset if names['city'].lower() == 'warszawa' )"
   ],
   "id": "70c10c536344ec39",
   "outputs": [],
   "execution_count": 51
  },
  {
   "metadata": {
    "ExecuteTime": {
     "end_time": "2024-10-24T22:38:58.404977Z",
     "start_time": "2024-10-24T22:38:58.398824Z"
    }
   },
   "cell_type": "code",
   "source": "give_back_names_people_from_waw(data)",
   "id": "d37b4b8202f99c91",
   "outputs": [
    {
     "data": {
      "text/plain": [
       "('piotr', 'bartek', 'karol')"
      ]
     },
     "execution_count": 52,
     "metadata": {},
     "output_type": "execute_result"
    }
   ],
   "execution_count": 52
  },
  {
   "metadata": {
    "ExecuteTime": {
     "end_time": "2024-10-24T22:35:55.420395Z",
     "start_time": "2024-10-24T22:35:55.414942Z"
    }
   },
   "cell_type": "code",
   "source": [
    "\n",
    "def give_back_names_people_from_waw_2(dataset):\n",
    "    names = []\n",
    "    for person in dataset:\n",
    "        if person['city'].lower() == 'warszawa':\n",
    "            names.append(person['name'])\n",
    "    return names"
   ],
   "id": "659ed8954f20eb9f",
   "outputs": [],
   "execution_count": 47
  },
  {
   "metadata": {
    "ExecuteTime": {
     "end_time": "2024-10-24T22:36:46.044708Z",
     "start_time": "2024-10-24T22:36:46.039878Z"
    }
   },
   "cell_type": "code",
   "source": "give_back_names_people_from_waw_2(data)",
   "id": "17dee04ad509c301",
   "outputs": [
    {
     "data": {
      "text/plain": [
       "['piotr', 'bartek', 'karol']"
      ]
     },
     "execution_count": 48,
     "metadata": {},
     "output_type": "execute_result"
    }
   ],
   "execution_count": 48
  },
  {
   "metadata": {
    "ExecuteTime": {
     "end_time": "2024-10-25T15:55:20.517083Z",
     "start_time": "2024-10-25T15:55:20.503789Z"
    }
   },
   "cell_type": "code",
   "source": [
    "def give_back_names_people_from_waw_3(people):\n",
    "    # return filter(fn, iterable)\n",
    "    # return filter(lambda person: person['city'].lower() == 'warszawa', people)\n",
    "    return list(map(\n",
    "        lambda person: person['name'],\n",
    "        filter(lambda person: person['city'].lower() == 'warszawa', people)\n",
    "    ))"
   ],
   "id": "9eaba7fe76b1dc47",
   "outputs": [],
   "execution_count": 1
  },
  {
   "metadata": {
    "ExecuteTime": {
     "end_time": "2024-10-25T15:56:02.625528Z",
     "start_time": "2024-10-25T15:56:02.603560Z"
    }
   },
   "cell_type": "code",
   "source": "give_back_names_people_from_waw_3(data)",
   "id": "3b468ba5fc34e5a0",
   "outputs": [
    {
     "data": {
      "text/plain": [
       "['piotr', 'bartek', 'karol']"
      ]
     },
     "execution_count": 4,
     "metadata": {},
     "output_type": "execute_result"
    }
   ],
   "execution_count": 4
  },
  {
   "metadata": {},
   "cell_type": "markdown",
   "source": "### Zwroc wszystkie miasta bez powtorzen",
   "id": "3a9459148833d6a"
  },
  {
   "metadata": {
    "ExecuteTime": {
     "end_time": "2024-10-25T16:06:46.821409Z",
     "start_time": "2024-10-25T16:06:46.812935Z"
    }
   },
   "cell_type": "code",
   "source": [
    "def cities_without_repetition(dataset):\n",
    "    return set(city['city'] for city in dataset)"
   ],
   "id": "b2fe90b3cae6e531",
   "outputs": [],
   "execution_count": 5
  },
  {
   "metadata": {
    "ExecuteTime": {
     "end_time": "2024-10-25T16:07:09.460557Z",
     "start_time": "2024-10-25T16:07:09.445835Z"
    }
   },
   "cell_type": "code",
   "source": "cities_without_repetition(data)",
   "id": "585fd117d0ab402b",
   "outputs": [
    {
     "data": {
      "text/plain": [
       "{'brwinow',\n",
       " 'gryfino',\n",
       " 'krakow',\n",
       " 'legnica',\n",
       " 'poznan',\n",
       " 'sosnowiec',\n",
       " 'torun',\n",
       " 'warszawa',\n",
       " 'wroclaw'}"
      ]
     },
     "execution_count": 6,
     "metadata": {},
     "output_type": "execute_result"
    }
   ],
   "execution_count": 6
  },
  {
   "metadata": {
    "ExecuteTime": {
     "end_time": "2024-10-25T16:14:49.188751Z",
     "start_time": "2024-10-25T16:14:49.178586Z"
    }
   },
   "cell_type": "code",
   "source": [
    "def cities_without_repetition_2(dataset):\n",
    "    cities = []\n",
    "    for city in dataset:\n",
    "        cities.append(city['city'])\n",
    "    return list(set(cities))"
   ],
   "id": "ec7654f120c86f19",
   "outputs": [],
   "execution_count": 9
  },
  {
   "metadata": {
    "ExecuteTime": {
     "end_time": "2024-10-25T16:14:52.646050Z",
     "start_time": "2024-10-25T16:14:52.632165Z"
    }
   },
   "cell_type": "code",
   "source": "cities_without_repetition_2(data)",
   "id": "3acd68b9b6c0c4a3",
   "outputs": [
    {
     "data": {
      "text/plain": [
       "['poznan',\n",
       " 'warszawa',\n",
       " 'torun',\n",
       " 'gryfino',\n",
       " 'krakow',\n",
       " 'wroclaw',\n",
       " 'sosnowiec',\n",
       " 'brwinow',\n",
       " 'legnica']"
      ]
     },
     "execution_count": 10,
     "metadata": {},
     "output_type": "execute_result"
    }
   ],
   "execution_count": 10
  },
  {
   "metadata": {
    "ExecuteTime": {
     "end_time": "2024-10-25T16:17:35.775103Z",
     "start_time": "2024-10-25T16:17:35.769655Z"
    }
   },
   "cell_type": "code",
   "source": "cities_without_repetition_3 = lambda dataset: set(map(lambda city: city['city'], dataset))",
   "id": "acd73a4197f962ba",
   "outputs": [],
   "execution_count": 11
  },
  {
   "metadata": {
    "ExecuteTime": {
     "end_time": "2024-10-25T16:17:52.703788Z",
     "start_time": "2024-10-25T16:17:52.695871Z"
    }
   },
   "cell_type": "code",
   "source": "cities_without_repetition_3(data)",
   "id": "ce036760adb61ff6",
   "outputs": [
    {
     "data": {
      "text/plain": [
       "{'brwinow',\n",
       " 'gryfino',\n",
       " 'krakow',\n",
       " 'legnica',\n",
       " 'poznan',\n",
       " 'sosnowiec',\n",
       " 'torun',\n",
       " 'warszawa',\n",
       " 'wroclaw'}"
      ]
     },
     "execution_count": 12,
     "metadata": {},
     "output_type": "execute_result"
    }
   ],
   "execution_count": 12
  },
  {
   "metadata": {},
   "cell_type": "markdown",
   "source": "### Sprawdz czy przynajmniej jedna osoba jest staruchem (age > 35 lat )",
   "id": "46f38941fe24858c"
  },
  {
   "metadata": {
    "ExecuteTime": {
     "end_time": "2024-10-25T18:22:24.934462Z",
     "start_time": "2024-10-25T18:22:24.929506Z"
    }
   },
   "cell_type": "code",
   "source": [
    "def check_age_people(dataset):\n",
    "    return bool(len([age['name'] for age in dataset if age['age'] > 35]) > 1)"
   ],
   "id": "31855f9e44822c77",
   "outputs": [],
   "execution_count": 9
  },
  {
   "metadata": {
    "ExecuteTime": {
     "end_time": "2024-10-25T18:22:28.081081Z",
     "start_time": "2024-10-25T18:22:28.076237Z"
    }
   },
   "cell_type": "code",
   "source": "check_age_people(data)",
   "id": "a1993567948d7890",
   "outputs": [
    {
     "data": {
      "text/plain": [
       "True"
      ]
     },
     "execution_count": 10,
     "metadata": {},
     "output_type": "execute_result"
    }
   ],
   "execution_count": 10
  },
  {
   "metadata": {
    "ExecuteTime": {
     "end_time": "2024-10-25T16:28:56.202879Z",
     "start_time": "2024-10-25T16:28:56.196110Z"
    }
   },
   "cell_type": "code",
   "source": [
    "def check_age_people_2(dataset):\n",
    "    age_list = [age['name'] for age in dataset if age['age'] > 35]\n",
    "    return f'There are {len(age_list)} people who are older than 35 years' if len(age_list) >= 1 else f'There is no elderly people in the group' "
   ],
   "id": "a3783350377fba95",
   "outputs": [],
   "execution_count": 17
  },
  {
   "metadata": {
    "ExecuteTime": {
     "end_time": "2024-10-25T16:28:58.915304Z",
     "start_time": "2024-10-25T16:28:58.905689Z"
    }
   },
   "cell_type": "code",
   "source": "check_age_people_2(data)",
   "id": "4478793533e7ec96",
   "outputs": [
    {
     "data": {
      "text/plain": [
       "'There are 5 people who are older than 35 years'"
      ]
     },
     "execution_count": 18,
     "metadata": {},
     "output_type": "execute_result"
    }
   ],
   "execution_count": 18
  },
  {
   "metadata": {
    "ExecuteTime": {
     "end_time": "2024-10-25T18:21:33.339694Z",
     "start_time": "2024-10-25T18:21:33.335327Z"
    }
   },
   "cell_type": "code",
   "source": [
    "def check_age_people_3(dataset):\n",
    "    age_list = []\n",
    "    for age in dataset:\n",
    "        if age['age'] > 35:\n",
    "            age_list.append(age['name'])\n",
    "    return True if len(age_list) > 1 else False"
   ],
   "id": "b89cc762965946bb",
   "outputs": [],
   "execution_count": 7
  },
  {
   "metadata": {
    "ExecuteTime": {
     "end_time": "2024-10-25T18:21:38.878819Z",
     "start_time": "2024-10-25T18:21:38.869208Z"
    }
   },
   "cell_type": "code",
   "source": "check_age_people_3(data)",
   "id": "26e1157ffb33fb8e",
   "outputs": [
    {
     "data": {
      "text/plain": [
       "True"
      ]
     },
     "execution_count": 8,
     "metadata": {},
     "output_type": "execute_result"
    }
   ],
   "execution_count": 8
  },
  {
   "metadata": {
    "ExecuteTime": {
     "end_time": "2024-10-25T18:46:45.685184Z",
     "start_time": "2024-10-25T18:46:45.678434Z"
    }
   },
   "cell_type": "code",
   "source": [
    "def check_age_people_4(dataset):\n",
    "    ages = list(map\n",
    "                (lambda person: person['name'],\n",
    "                filter(lambda person_age: person_age['age'] > 35, dataset)\n",
    "                ))\n",
    "    return len(ages) > 1"
   ],
   "id": "edbae10a0345372d",
   "outputs": [],
   "execution_count": 16
  },
  {
   "metadata": {
    "ExecuteTime": {
     "end_time": "2024-10-25T18:46:48.047448Z",
     "start_time": "2024-10-25T18:46:48.042541Z"
    }
   },
   "cell_type": "code",
   "source": "check_age_people_4(data)",
   "id": "3823082f3c750de1",
   "outputs": [
    {
     "data": {
      "text/plain": [
       "True"
      ]
     },
     "execution_count": 17,
     "metadata": {},
     "output_type": "execute_result"
    }
   ],
   "execution_count": 17
  },
  {
   "metadata": {
    "ExecuteTime": {
     "end_time": "2024-10-25T19:07:26.327868Z",
     "start_time": "2024-10-25T19:07:26.322630Z"
    }
   },
   "cell_type": "code",
   "source": [
    "def is_olden_people(people):\n",
    "    for person in people:\n",
    "        if person['age'] > 35:\n",
    "            return True\n",
    "    return False"
   ],
   "id": "c61ffb70bc6b4d13",
   "outputs": [],
   "execution_count": 19
  },
  {
   "metadata": {
    "ExecuteTime": {
     "end_time": "2024-10-25T19:07:28.750162Z",
     "start_time": "2024-10-25T19:07:28.745423Z"
    }
   },
   "cell_type": "code",
   "source": "is_olden_people(data)",
   "id": "1221ba9e0c84974f",
   "outputs": [
    {
     "data": {
      "text/plain": [
       "True"
      ]
     },
     "execution_count": 20,
     "metadata": {},
     "output_type": "execute_result"
    }
   ],
   "execution_count": 20
  },
  {
   "metadata": {
    "ExecuteTime": {
     "end_time": "2024-10-25T19:33:47.195877Z",
     "start_time": "2024-10-25T19:33:47.192157Z"
    }
   },
   "cell_type": "code",
   "source": [
    "def is_olden_people_2(people):\n",
    "    return [{person['name']: person['age']} for person in people if person['age'] > 35]\n",
    "    # return [(person['name'], person['age']) for person in people if person['age'] > 35]"
   ],
   "id": "c3fc220c5705e181",
   "outputs": [],
   "execution_count": 41
  },
  {
   "metadata": {
    "ExecuteTime": {
     "end_time": "2024-10-25T19:33:50.008288Z",
     "start_time": "2024-10-25T19:33:50.001371Z"
    }
   },
   "cell_type": "code",
   "source": "is_olden_people_2(data)",
   "id": "9a3af4aec602e06",
   "outputs": [
    {
     "data": {
      "text/plain": [
       "[{'pawel': 39}, {'dawid': 36}, {'lukasz': 37}, {'bartek': 47}, {'karol': 38}]"
      ]
     },
     "execution_count": 42,
     "metadata": {},
     "output_type": "execute_result"
    }
   ],
   "execution_count": 42
  },
  {
   "metadata": {
    "ExecuteTime": {
     "end_time": "2024-10-25T19:35:51.762412Z",
     "start_time": "2024-10-25T19:35:51.758847Z"
    }
   },
   "cell_type": "code",
   "source": [
    "def is_olden_people_3(people):\n",
    "    return [(person['name'], person['age']) for person in people if person['age'] > 35]"
   ],
   "id": "d2cfe81e023d37ab",
   "outputs": [],
   "execution_count": 43
  },
  {
   "metadata": {
    "ExecuteTime": {
     "end_time": "2024-10-25T19:36:03.942153Z",
     "start_time": "2024-10-25T19:36:03.934776Z"
    }
   },
   "cell_type": "code",
   "source": "is_olden_people_3(data)",
   "id": "64faf2b3182e01ba",
   "outputs": [
    {
     "data": {
      "text/plain": [
       "[('pawel', 39), ('dawid', 36), ('lukasz', 37), ('bartek', 47), ('karol', 38)]"
      ]
     },
     "execution_count": 44,
     "metadata": {},
     "output_type": "execute_result"
    }
   ],
   "execution_count": 44
  },
  {
   "metadata": {
    "ExecuteTime": {
     "end_time": "2024-10-25T19:37:55.370068Z",
     "start_time": "2024-10-25T19:37:55.366555Z"
    }
   },
   "cell_type": "code",
   "source": [
    "def is_olden_people_4(people):\n",
    "    return bool([person['name'] for person in people if person['age'] > 35])"
   ],
   "id": "72d75345f6410721",
   "outputs": [],
   "execution_count": 48
  },
  {
   "metadata": {
    "ExecuteTime": {
     "end_time": "2024-10-25T19:37:58.124718Z",
     "start_time": "2024-10-25T19:37:58.118388Z"
    }
   },
   "cell_type": "code",
   "source": "is_olden_people_4(data)",
   "id": "e7a390835f8a05ec",
   "outputs": [
    {
     "data": {
      "text/plain": [
       "True"
      ]
     },
     "execution_count": 49,
     "metadata": {},
     "output_type": "execute_result"
    }
   ],
   "execution_count": 49
  },
  {
   "metadata": {
    "ExecuteTime": {
     "end_time": "2024-10-25T19:54:56.245094Z",
     "start_time": "2024-10-25T19:54:56.239485Z"
    }
   },
   "cell_type": "code",
   "source": [
    "def is_olden_people_5(people):\n",
    "    return len(list(filter(lambda person: person['age'] > 35, people))) > 0"
   ],
   "id": "12182d5cac08b591",
   "outputs": [],
   "execution_count": 57
  },
  {
   "metadata": {
    "ExecuteTime": {
     "end_time": "2024-10-25T19:55:03.813659Z",
     "start_time": "2024-10-25T19:55:03.808864Z"
    }
   },
   "cell_type": "code",
   "source": "is_olden_people_5(data)",
   "id": "d64481a9ab57395",
   "outputs": [
    {
     "data": {
      "text/plain": [
       "True"
      ]
     },
     "execution_count": 58,
     "metadata": {},
     "output_type": "execute_result"
    }
   ],
   "execution_count": 58
  },
  {
   "metadata": {
    "ExecuteTime": {
     "end_time": "2024-10-25T20:03:23.705697Z",
     "start_time": "2024-10-25T20:03:23.683632Z"
    }
   },
   "cell_type": "code",
   "source": [
    "def is_olden_people_6(people):\n",
    "    return any(map(lambda person: person['age'] > 35, people))"
   ],
   "id": "79cb99f12e545b7d",
   "outputs": [],
   "execution_count": 60
  },
  {
   "metadata": {
    "ExecuteTime": {
     "end_time": "2024-10-25T20:05:28.382059Z",
     "start_time": "2024-10-25T20:05:28.377358Z"
    }
   },
   "cell_type": "code",
   "source": "is_olden_people_6(data)",
   "id": "1c9cea7c0518b272",
   "outputs": [
    {
     "data": {
      "text/plain": [
       "True"
      ]
     },
     "execution_count": 61,
     "metadata": {},
     "output_type": "execute_result"
    }
   ],
   "execution_count": 61
  },
  {
   "metadata": {},
   "cell_type": "markdown",
   "source": "### Czy wszyscy sa mlodzi / mlody czlowiek to taki przed 20 /",
   "id": "5dd6f5c0dd889099"
  },
  {
   "metadata": {
    "ExecuteTime": {
     "end_time": "2024-10-25T20:11:35.784899Z",
     "start_time": "2024-10-25T20:11:35.780590Z"
    }
   },
   "cell_type": "code",
   "source": [
    "def is_young_people(people):\n",
    "    # return len([person for person in people if person['age'] < 20]) > 1\n",
    "    return bool([person for person in people if person['age'] < 20])"
   ],
   "id": "452be8d758cef54b",
   "outputs": [],
   "execution_count": 64
  },
  {
   "metadata": {
    "ExecuteTime": {
     "end_time": "2024-10-25T20:11:39.014282Z",
     "start_time": "2024-10-25T20:11:39.008052Z"
    }
   },
   "cell_type": "code",
   "source": "is_young_people(data)",
   "id": "593e5c4da8a34b4a",
   "outputs": [
    {
     "data": {
      "text/plain": [
       "False"
      ]
     },
     "execution_count": 65,
     "metadata": {},
     "output_type": "execute_result"
    }
   ],
   "execution_count": 65
  },
  {
   "metadata": {
    "ExecuteTime": {
     "end_time": "2024-10-25T20:12:55.079896Z",
     "start_time": "2024-10-25T20:12:55.074712Z"
    }
   },
   "cell_type": "code",
   "source": [
    "def is_young_people_2(people):\n",
    "    for person in people:\n",
    "        if person['age'] < 20:\n",
    "            return True\n",
    "    return False"
   ],
   "id": "4b813c72ab4b467f",
   "outputs": [],
   "execution_count": 66
  },
  {
   "metadata": {
    "ExecuteTime": {
     "end_time": "2024-10-25T20:13:15.992316Z",
     "start_time": "2024-10-25T20:13:15.985815Z"
    }
   },
   "cell_type": "code",
   "source": "is_young_people_2(data)",
   "id": "6e23e2b377cd6d86",
   "outputs": [
    {
     "data": {
      "text/plain": [
       "False"
      ]
     },
     "execution_count": 67,
     "metadata": {},
     "output_type": "execute_result"
    }
   ],
   "execution_count": 67
  },
  {
   "metadata": {
    "ExecuteTime": {
     "end_time": "2024-10-25T20:14:07.720446Z",
     "start_time": "2024-10-25T20:14:07.716332Z"
    }
   },
   "cell_type": "code",
   "source": [
    "def is_young_people_3(people):\n",
    "    return any(map(lambda person: person['age'] < 20, people))"
   ],
   "id": "e6f0efb436345d40",
   "outputs": [],
   "execution_count": 68
  },
  {
   "metadata": {
    "ExecuteTime": {
     "end_time": "2024-10-25T20:14:28.008139Z",
     "start_time": "2024-10-25T20:14:28.003374Z"
    }
   },
   "cell_type": "code",
   "source": "is_young_people_3(data)",
   "id": "ed09ef1dac09f7b9",
   "outputs": [
    {
     "data": {
      "text/plain": [
       "False"
      ]
     },
     "execution_count": 69,
     "metadata": {},
     "output_type": "execute_result"
    }
   ],
   "execution_count": 69
  },
  {
   "metadata": {},
   "cell_type": "code",
   "outputs": [],
   "execution_count": null,
   "source": [
    "def magic():\n",
    "    for element in data:\n",
    "        if element['age'] > 20:\n",
    "            return False\n",
    "    return True"
   ],
   "id": "5ed3612297748f2"
  },
  {
   "metadata": {
    "ExecuteTime": {
     "end_time": "2024-10-25T20:19:02.556945Z",
     "start_time": "2024-10-25T20:19:02.545292Z"
    }
   },
   "cell_type": "code",
   "source": "magic()",
   "id": "23949335d94caab8",
   "outputs": [],
   "execution_count": 70
  },
  {
   "metadata": {
    "ExecuteTime": {
     "end_time": "2024-10-25T20:22:51.648978Z",
     "start_time": "2024-10-25T20:22:51.645633Z"
    }
   },
   "cell_type": "code",
   "source": [
    "def magic2():\n",
    "    return bool([element for element in data if element['age'] < 20])"
   ],
   "id": "60f15b71f3569d03",
   "outputs": [],
   "execution_count": 77
  },
  {
   "metadata": {
    "ExecuteTime": {
     "end_time": "2024-10-25T20:22:53.641093Z",
     "start_time": "2024-10-25T20:22:53.634963Z"
    }
   },
   "cell_type": "code",
   "source": "magic2()",
   "id": "8f831ed8f898bbce",
   "outputs": [
    {
     "data": {
      "text/plain": [
       "False"
      ]
     },
     "execution_count": 78,
     "metadata": {},
     "output_type": "execute_result"
    }
   ],
   "execution_count": 78
  },
  {
   "metadata": {
    "ExecuteTime": {
     "end_time": "2024-10-25T20:28:17.955938Z",
     "start_time": "2024-10-25T20:28:17.952858Z"
    }
   },
   "cell_type": "code",
   "source": [
    "def magic3():\n",
    "    return all(map(lambda element: element['age'] < 20, data))"
   ],
   "id": "edac245ea138d3ec",
   "outputs": [],
   "execution_count": 81
  },
  {
   "metadata": {
    "ExecuteTime": {
     "end_time": "2024-10-25T20:28:21.244166Z",
     "start_time": "2024-10-25T20:28:21.238626Z"
    }
   },
   "cell_type": "code",
   "source": "magic3()",
   "id": "6b5a98d62f3735df",
   "outputs": [
    {
     "data": {
      "text/plain": [
       "False"
      ]
     },
     "execution_count": 82,
     "metadata": {},
     "output_type": "execute_result"
    }
   ],
   "execution_count": 82
  },
  {
   "metadata": {},
   "cell_type": "markdown",
   "source": "### ile jest unikalnych hobby",
   "id": "e879770f13fe1c0"
  },
  {
   "metadata": {
    "ExecuteTime": {
     "end_time": "2024-10-25T20:42:39.183657Z",
     "start_time": "2024-10-25T20:42:39.171192Z"
    }
   },
   "cell_type": "code",
   "source": [
    "def magic4():\n",
    "    all_hobbies = set()\n",
    "    \n",
    "    for item in data:\n",
    "        for hobbies in item['hobbies']:\n",
    "            all_hobbies.add(hobbies)\n",
    "    return len(all_hobbies)\n"
   ],
   "id": "e51fb43a7b2c0c7f",
   "outputs": [],
   "execution_count": 94
  },
  {
   "metadata": {
    "ExecuteTime": {
     "end_time": "2024-10-25T20:42:41.662345Z",
     "start_time": "2024-10-25T20:42:41.657394Z"
    }
   },
   "cell_type": "code",
   "source": "magic4()",
   "id": "9f208cfa3e480415",
   "outputs": [
    {
     "data": {
      "text/plain": [
       "34"
      ]
     },
     "execution_count": 95,
     "metadata": {},
     "output_type": "execute_result"
    }
   ],
   "execution_count": 95
  },
  {
   "metadata": {
    "ExecuteTime": {
     "end_time": "2024-10-25T20:47:15.266262Z",
     "start_time": "2024-10-25T20:47:15.261841Z"
    }
   },
   "cell_type": "code",
   "source": [
    "def magic5():\n",
    "    all_hobbies = set()\n",
    "    \n",
    "    for item in data:\n",
    "        all_hobbies.update(item['hobbies'])\n",
    "        \n",
    "    return len(all_hobbies)"
   ],
   "id": "401c64e2ce1aad3f",
   "outputs": [],
   "execution_count": 98
  },
  {
   "metadata": {
    "ExecuteTime": {
     "end_time": "2024-10-25T20:47:18.386050Z",
     "start_time": "2024-10-25T20:47:18.380023Z"
    }
   },
   "cell_type": "code",
   "source": "magic5()",
   "id": "5eff57c33762b0cb",
   "outputs": [
    {
     "data": {
      "text/plain": [
       "34"
      ]
     },
     "execution_count": 99,
     "metadata": {},
     "output_type": "execute_result"
    }
   ],
   "execution_count": 99
  },
  {
   "metadata": {
    "ExecuteTime": {
     "end_time": "2024-10-25T20:50:11.385993Z",
     "start_time": "2024-10-25T20:50:11.381329Z"
    }
   },
   "cell_type": "code",
   "source": [
    "def magic6():\n",
    "    all_hobbies = set()\n",
    "    \n",
    "    for item in data:\n",
    "        all_hobbies |= set(item['hobbies'])\n",
    "        \n",
    "    return len(all_hobbies)"
   ],
   "id": "fa4c8c3b19075f88",
   "outputs": [],
   "execution_count": 104
  },
  {
   "metadata": {
    "ExecuteTime": {
     "end_time": "2024-10-25T20:50:13.994690Z",
     "start_time": "2024-10-25T20:50:13.987690Z"
    }
   },
   "cell_type": "code",
   "source": "magic6()",
   "id": "acdc0be35f260178",
   "outputs": [
    {
     "data": {
      "text/plain": [
       "34"
      ]
     },
     "execution_count": 105,
     "metadata": {},
     "output_type": "execute_result"
    }
   ],
   "execution_count": 105
  },
  {
   "metadata": {
    "ExecuteTime": {
     "end_time": "2024-10-25T21:10:22.124759Z",
     "start_time": "2024-10-25T21:10:22.120298Z"
    }
   },
   "cell_type": "code",
   "source": [
    "def magic7():\n",
    "    return {hobby for person in data for hobby in person['hobbies']}"
   ],
   "id": "3012928cd420578b",
   "outputs": [],
   "execution_count": 109
  },
  {
   "metadata": {
    "ExecuteTime": {
     "end_time": "2024-10-25T21:08:29.687294Z",
     "start_time": "2024-10-25T21:08:29.682248Z"
    }
   },
   "cell_type": "code",
   "source": "magic7()",
   "id": "f69b818006fc4054",
   "outputs": [
    {
     "data": {
      "text/plain": [
       "{'Cycling',\n",
       " 'Home Beer brewing',\n",
       " 'Learning new things',\n",
       " 'anime',\n",
       " 'art',\n",
       " 'bjj',\n",
       " 'boardgames',\n",
       " 'books',\n",
       " 'climbing',\n",
       " 'coding',\n",
       " 'crypto',\n",
       " 'culinary',\n",
       " 'drugs',\n",
       " 'filmy',\n",
       " 'football',\n",
       " 'godot',\n",
       " 'gry',\n",
       " 'jogging',\n",
       " 'js',\n",
       " 'literature',\n",
       " 'mangi',\n",
       " 'math',\n",
       " 'movies',\n",
       " 'music',\n",
       " 'muzyka',\n",
       " 'photography',\n",
       " 'plants',\n",
       " 'python',\n",
       " 'running',\n",
       " 'sport',\n",
       " 'squash',\n",
       " 'traveling',\n",
       " 'trips',\n",
       " 'work'}"
      ]
     },
     "execution_count": 108,
     "metadata": {},
     "output_type": "execute_result"
    }
   ],
   "execution_count": 108
  },
  {
   "metadata": {
    "ExecuteTime": {
     "end_time": "2024-10-25T21:16:27.912323Z",
     "start_time": "2024-10-25T21:16:27.908555Z"
    }
   },
   "cell_type": "code",
   "source": "from functools import reduce",
   "id": "52451ca9c59c274f",
   "outputs": [],
   "execution_count": 111
  },
  {
   "metadata": {
    "ExecuteTime": {
     "end_time": "2024-10-25T21:16:32.681853Z",
     "start_time": "2024-10-25T21:16:32.675233Z"
    }
   },
   "cell_type": "code",
   "source": "reduce(lambda acc, ce: acc | set(ce['hobbies']), data, set())",
   "id": "c5ffce6aba6fb2f8",
   "outputs": [
    {
     "data": {
      "text/plain": [
       "{'Cycling',\n",
       " 'Home Beer brewing',\n",
       " 'Learning new things',\n",
       " 'anime',\n",
       " 'art',\n",
       " 'bjj',\n",
       " 'boardgames',\n",
       " 'books',\n",
       " 'climbing',\n",
       " 'coding',\n",
       " 'crypto',\n",
       " 'culinary',\n",
       " 'drugs',\n",
       " 'filmy',\n",
       " 'football',\n",
       " 'godot',\n",
       " 'gry',\n",
       " 'jogging',\n",
       " 'js',\n",
       " 'literature',\n",
       " 'mangi',\n",
       " 'math',\n",
       " 'movies',\n",
       " 'music',\n",
       " 'muzyka',\n",
       " 'photography',\n",
       " 'plants',\n",
       " 'python',\n",
       " 'running',\n",
       " 'sport',\n",
       " 'squash',\n",
       " 'traveling',\n",
       " 'trips',\n",
       " 'work'}"
      ]
     },
     "execution_count": 112,
     "metadata": {},
     "output_type": "execute_result"
    }
   ],
   "execution_count": 112
  },
  {
   "metadata": {},
   "cell_type": "markdown",
   "source": "# Reduce",
   "id": "4461e1dafa239448"
  },
  {
   "metadata": {
    "ExecuteTime": {
     "end_time": "2024-10-25T21:21:56.949131Z",
     "start_time": "2024-10-25T21:21:56.944384Z"
    }
   },
   "cell_type": "code",
   "source": "x = [1, 2, 3, 4, 5]",
   "id": "793f7c21e2bb0a00",
   "outputs": [],
   "execution_count": 113
  },
  {
   "metadata": {
    "ExecuteTime": {
     "end_time": "2024-10-25T21:22:40.640958Z",
     "start_time": "2024-10-25T21:22:40.635226Z"
    }
   },
   "cell_type": "code",
   "source": "reduce(lambda acc, ce: acc + ce, x)",
   "id": "8311842c95440cd1",
   "outputs": [
    {
     "data": {
      "text/plain": [
       "15"
      ]
     },
     "execution_count": 114,
     "metadata": {},
     "output_type": "execute_result"
    }
   ],
   "execution_count": 114
  },
  {
   "metadata": {},
   "cell_type": "code",
   "outputs": [],
   "execution_count": null,
   "source": "",
   "id": "2a15e77a426a3c11"
  },
  {
   "metadata": {},
   "cell_type": "code",
   "outputs": [],
   "execution_count": null,
   "source": "",
   "id": "11511c20321d46a4"
  },
  {
   "metadata": {},
   "cell_type": "code",
   "outputs": [],
   "execution_count": null,
   "source": "",
   "id": "91a94fd10793f289"
  }
 ],
 "metadata": {
  "kernelspec": {
   "display_name": "Python 3",
   "language": "python",
   "name": "python3"
  },
  "language_info": {
   "codemirror_mode": {
    "name": "ipython",
    "version": 2
   },
   "file_extension": ".py",
   "mimetype": "text/x-python",
   "name": "python",
   "nbconvert_exporter": "python",
   "pygments_lexer": "ipython2",
   "version": "2.7.6"
  }
 },
 "nbformat": 4,
 "nbformat_minor": 5
}
